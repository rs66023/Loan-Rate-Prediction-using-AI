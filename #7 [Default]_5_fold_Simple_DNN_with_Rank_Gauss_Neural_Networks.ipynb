{
  "nbformat": 4,
  "nbformat_minor": 0,
  "metadata": {
    "colab": {
      "provenance": [],
      "machine_shape": "hm",
      "gpuType": "T4"
    },
    "kernelspec": {
      "name": "python3",
      "display_name": "Python 3"
    },
    "language_info": {
      "name": "python"
    },
    "accelerator": "GPU"
  },
  "cells": [
    {
      "cell_type": "code",
      "execution_count": null,
      "metadata": {
        "colab": {
          "base_uri": "https://localhost:8080/"
        },
        "id": "iH3JNU2ZdN-H",
        "outputId": "17479cb6-9dc1-474d-8b57-288333a28880"
      },
      "outputs": [
        {
          "output_type": "stream",
          "name": "stdout",
          "text": [
            "Mounted at /content/drive\n"
          ]
        }
      ],
      "source": [
        "from google.colab import drive\n",
        "drive.mount('/content/drive')"
      ]
    },
    {
      "cell_type": "code",
      "source": [
        "# numpy and pandas for data manipulation\n",
        "import numpy as np\n",
        "import pandas as pd\n",
        "\n",
        "# sklearn preprocessing for dealing with categorical variables\n",
        "from sklearn.preprocessing import LabelEncoder\n",
        "\n",
        "# File system manangement\n",
        "import os\n",
        "\n",
        "# Suppress warnings\n",
        "import warnings\n",
        "warnings.filterwarnings('ignore')\n",
        "\n",
        "# matplotlib and seaborn for plotting\n",
        "import matplotlib\n",
        "import matplotlib.pyplot as plt\n",
        "import seaborn as sns\n",
        "\n",
        "# modeling\n",
        "from sklearn.preprocessing import MinMaxScaler\n",
        "from keras.models import Sequential\n",
        "from keras.layers import Dense\n",
        "from keras.layers import Dropout, BatchNormalization\n",
        "from keras.layers import PReLU\n",
        "from keras.optimizers import Adam\n",
        "from sklearn.model_selection import KFold\n",
        "\n",
        "# memory management\n",
        "import gc"
      ],
      "metadata": {
        "id": "vytmDkG2dcdp"
      },
      "execution_count": null,
      "outputs": []
    },
    {
      "cell_type": "markdown",
      "source": [
        "# Calling Datasets"
      ],
      "metadata": {
        "id": "GKaU8Z4RdeRD"
      }
    },
    {
      "cell_type": "code",
      "source": [
        "#Datasets\n",
        "application_train = pd.read_csv('/content/drive/MyDrive/Thesis/Home Credit Section/Final [Small]/predictor_train_small.csv')\n",
        "application_test = pd.read_csv('/content/drive/MyDrive/Thesis/Home Credit Section/Final [Small]/predictor_test_small.csv')\n",
        "\n",
        "\n",
        "merged=pd.concat([application_train, application_test],  ignore_index=True, sort=False)"
      ],
      "metadata": {
        "id": "B-RmN4QUhSRA"
      },
      "execution_count": null,
      "outputs": []
    },
    {
      "cell_type": "code",
      "source": [
        "merged_rates = pd.DataFrame()\n",
        "merged_rates['SK_ID_CURR']=merged['SK_ID_CURR']\n",
        "merged_rates['drawdown_rate']=merged['drawdown_rate']\n",
        "merged_rates['utilization_rate']=merged['utilization_rate']"
      ],
      "metadata": {
        "id": "FEaD_Qd2Va4Y"
      },
      "execution_count": null,
      "outputs": []
    },
    {
      "cell_type": "code",
      "source": [
        "print(\"Raw shape: \", merged.shape)\n",
        "\n",
        "y=merged['TARGET']\n",
        "\n",
        "feats = [f for f in application_train.columns if f not in ['TARGET','SK_ID_CURR','index']]\n",
        "\n",
        "X = merged[feats]\n",
        "\n",
        "print(\"X shape: \", X.shape, \"    y shape:\", y.shape)\n",
        "\n",
        "print(\"\\nPreparing data...\")\n",
        "X = X.fillna(X.mean()).clip(-1e11,1e11)"
      ],
      "metadata": {
        "colab": {
          "base_uri": "https://localhost:8080/"
        },
        "id": "MJsypvSmhmjn",
        "outputId": "903befbb-f2ae-4911-9384-ac65da43c3db"
      },
      "execution_count": null,
      "outputs": [
        {
          "output_type": "stream",
          "name": "stdout",
          "text": [
            "Raw shape:  (356255, 340)\n",
            "X shape:  (356255, 338)     y shape: (356255,)\n",
            "\n",
            "Preparing data...\n"
          ]
        }
      ]
    },
    {
      "cell_type": "code",
      "source": [
        "def rank_gauss(x):\n",
        "    from scipy.special import erfinv\n",
        "    N = x.shape[0]\n",
        "    temp = x.argsort()\n",
        "    rank_x = temp.argsort() / N\n",
        "    rank_x -= rank_x.mean()\n",
        "    rank_x *= 2\n",
        "    efi_x = erfinv(rank_x)\n",
        "    efi_x -= efi_x.mean()\n",
        "    return efi_x"
      ],
      "metadata": {
        "id": "pvUipf-3iuRU"
      },
      "execution_count": null,
      "outputs": []
    },
    {
      "cell_type": "code",
      "source": [
        "for i in X.columns:\n",
        "    #print('Categorical: ',i)\n",
        "    X[i] = rank_gauss(X[i].values)"
      ],
      "metadata": {
        "id": "BrIHRmp0iwFc"
      },
      "execution_count": null,
      "outputs": []
    },
    {
      "cell_type": "code",
      "source": [
        "training = y.notnull()\n",
        "testing = y.isnull()\n",
        "X_train = X[training].values\n",
        "X_test = X[testing].values\n",
        "y_train = np.array(y[training])\n",
        "print( X_train.shape, X_test.shape, y_train.shape )\n",
        "gc.collect()"
      ],
      "metadata": {
        "colab": {
          "base_uri": "https://localhost:8080/"
        },
        "id": "NS0NSMyriyGU",
        "outputId": "801bc242-b9ad-46bd-ae62-92690e026555"
      },
      "execution_count": null,
      "outputs": [
        {
          "output_type": "stream",
          "name": "stdout",
          "text": [
            "(307511, 338) (48744, 338) (307511,)\n"
          ]
        },
        {
          "output_type": "execute_result",
          "data": {
            "text/plain": [
              "73"
            ]
          },
          "metadata": {},
          "execution_count": 9
        }
      ]
    },
    {
      "cell_type": "code",
      "source": [
        "from sklearn.metrics import roc_auc_score\n",
        "from keras.callbacks import Callback\n",
        "class roc_callback(Callback):\n",
        "    def __init__(self,training_data,validation_data):\n",
        "        self.x = training_data[0]\n",
        "        self.y = training_data[1]\n",
        "        self.x_val = validation_data[0]\n",
        "        self.y_val = validation_data[1]\n",
        "\n",
        "\n",
        "    def on_train_begin(self, logs={}):\n",
        "        return\n",
        "\n",
        "    def on_train_end(self, logs={}):\n",
        "        return\n",
        "\n",
        "    def on_epoch_begin(self, epoch, logs={}):\n",
        "        return\n",
        "\n",
        "    def on_epoch_end(self, epoch, logs={}):\n",
        "        y_pred = self.model.predict(self.x)\n",
        "        roc = roc_auc_score(self.y, y_pred)\n",
        "        y_pred_val = self.model.predict(self.x_val)\n",
        "        roc_val = roc_auc_score(self.y_val, y_pred_val)\n",
        "        print('\\rroc-auc: %s - roc-auc_val: %s' % (str(round(roc,4)),str(round(roc_val,4))),end=100*' '+'\\n')\n",
        "        return\n",
        "\n",
        "    def on_batch_begin(self, batch, logs={}):\n",
        "        return\n",
        "\n",
        "    def on_batch_end(self, batch, logs={}):\n",
        "        return"
      ],
      "metadata": {
        "id": "SpLo5426i_cX"
      },
      "execution_count": null,
      "outputs": []
    },
    {
      "cell_type": "code",
      "source": [
        "folds = KFold(n_splits=5, shuffle=True, random_state=42)\n",
        "sub_preds = np.zeros(X_test.shape[0])\n",
        "\n",
        "for n_fold, (trn_idx, val_idx) in enumerate(folds.split(X_train)):\n",
        "    trn_x, trn_y = X_train[trn_idx], y_train[trn_idx]\n",
        "    val_x, val_y = X_train[val_idx], y_train[val_idx]\n",
        "\n",
        "    print( 'Setting up neural network...' )\n",
        "    nn = Sequential()\n",
        "    nn.add(Dense(units = 400 , kernel_initializer = 'normal', input_dim = 338))\n",
        "    nn.add(PReLU())\n",
        "    nn.add(Dropout(.3))\n",
        "    nn.add(Dense(units = 160 , kernel_initializer = 'normal'))\n",
        "    nn.add(PReLU())\n",
        "    nn.add(BatchNormalization())\n",
        "    nn.add(Dropout(.3))\n",
        "    nn.add(Dense(units = 64 , kernel_initializer = 'normal'))\n",
        "    nn.add(PReLU())\n",
        "    nn.add(BatchNormalization())\n",
        "    nn.add(Dropout(.3))\n",
        "    nn.add(Dense(units = 26, kernel_initializer = 'normal'))\n",
        "    nn.add(PReLU())\n",
        "    nn.add(BatchNormalization())\n",
        "    nn.add(Dropout(.3))\n",
        "    nn.add(Dense(units = 12, kernel_initializer = 'normal'))\n",
        "    nn.add(PReLU())\n",
        "    nn.add(BatchNormalization())\n",
        "    nn.add(Dropout(.3))\n",
        "    nn.add(Dense(1, kernel_initializer='normal', activation='sigmoid'))\n",
        "    nn.compile(loss='binary_crossentropy', optimizer='adam')\n",
        "\n",
        "    print( 'Fitting neural network...' )\n",
        "    nn.fit(trn_x, trn_y, validation_data = (val_x, val_y), epochs=10, verbose=2,\n",
        "          callbacks=[roc_callback(training_data=(trn_x, trn_y),validation_data=(val_x, val_y))])\n",
        "\n",
        "    print( 'Predicting...' )\n",
        "    sub_preds += nn.predict(X_test).flatten().clip(0,1) / folds.n_splits\n",
        "\n",
        "    gc.collect()"
      ],
      "metadata": {
        "colab": {
          "base_uri": "https://localhost:8080/"
        },
        "id": "8kPmNL7wi_5E",
        "outputId": "7b17b1a8-6554-4325-f32f-2acc1a491d1e"
      },
      "execution_count": null,
      "outputs": [
        {
          "output_type": "stream",
          "name": "stdout",
          "text": [
            "Setting up neural network...\n",
            "Fitting neural network...\n",
            "Epoch 1/10\n",
            "7688/7688 [==============================] - 12s 2ms/step\n",
            "1922/1922 [==============================] - 3s 2ms/step\n",
            "roc-auc: 0.7602 - roc-auc_val: 0.7564                                                                                                    \n",
            "7688/7688 - 80s - loss: 0.2764 - val_loss: 0.2468 - 80s/epoch - 10ms/step\n",
            "Epoch 2/10\n",
            "7688/7688 [==============================] - 12s 2ms/step\n",
            "1922/1922 [==============================] - 3s 2ms/step\n",
            "roc-auc: 0.7758 - roc-auc_val: 0.768                                                                                                    \n",
            "7688/7688 - 69s - loss: 0.2518 - val_loss: 0.2432 - 69s/epoch - 9ms/step\n",
            "Epoch 3/10\n",
            "7688/7688 [==============================] - 12s 2ms/step\n",
            "1922/1922 [==============================] - 3s 2ms/step\n",
            "roc-auc: 0.778 - roc-auc_val: 0.7689                                                                                                    \n",
            "7688/7688 - 69s - loss: 0.2489 - val_loss: 0.2432 - 69s/epoch - 9ms/step\n",
            "Epoch 4/10\n",
            "7688/7688 [==============================] - 13s 2ms/step\n",
            "1922/1922 [==============================] - 3s 2ms/step\n",
            "roc-auc: 0.7837 - roc-auc_val: 0.7671                                                                                                    \n",
            "7688/7688 - 69s - loss: 0.2467 - val_loss: 0.2431 - 69s/epoch - 9ms/step\n",
            "Epoch 5/10\n",
            "7688/7688 [==============================] - 13s 2ms/step\n",
            "1922/1922 [==============================] - 3s 2ms/step\n",
            "roc-auc: 0.7901 - roc-auc_val: 0.7698                                                                                                    \n",
            "7688/7688 - 68s - loss: 0.2451 - val_loss: 0.2425 - 68s/epoch - 9ms/step\n",
            "Epoch 6/10\n",
            "7688/7688 [==============================] - 12s 2ms/step\n",
            "1922/1922 [==============================] - 3s 2ms/step\n",
            "roc-auc: 0.7957 - roc-auc_val: 0.7681                                                                                                    \n",
            "7688/7688 - 69s - loss: 0.2435 - val_loss: 0.2425 - 69s/epoch - 9ms/step\n",
            "Epoch 7/10\n",
            "7688/7688 [==============================] - 13s 2ms/step\n",
            "1922/1922 [==============================] - 3s 2ms/step\n",
            "roc-auc: 0.802 - roc-auc_val: 0.7691                                                                                                    \n",
            "7688/7688 - 69s - loss: 0.2424 - val_loss: 0.2421 - 69s/epoch - 9ms/step\n",
            "Epoch 8/10\n",
            "7688/7688 [==============================] - 12s 2ms/step\n",
            "1922/1922 [==============================] - 3s 2ms/step\n",
            "roc-auc: 0.8076 - roc-auc_val: 0.7678                                                                                                    \n",
            "7688/7688 - 68s - loss: 0.2408 - val_loss: 0.2429 - 68s/epoch - 9ms/step\n",
            "Epoch 9/10\n",
            "7688/7688 [==============================] - 12s 2ms/step\n",
            "1922/1922 [==============================] - 3s 2ms/step\n",
            "roc-auc: 0.8136 - roc-auc_val: 0.7671                                                                                                    \n",
            "7688/7688 - 68s - loss: 0.2390 - val_loss: 0.2432 - 68s/epoch - 9ms/step\n",
            "Epoch 10/10\n",
            "7688/7688 [==============================] - 12s 2ms/step\n",
            "1922/1922 [==============================] - 3s 2ms/step\n",
            "roc-auc: 0.8199 - roc-auc_val: 0.7645                                                                                                    \n",
            "7688/7688 - 68s - loss: 0.2382 - val_loss: 0.2448 - 68s/epoch - 9ms/step\n",
            "Predicting...\n",
            "1524/1524 [==============================] - 3s 2ms/step\n",
            "Setting up neural network...\n",
            "Fitting neural network...\n",
            "Epoch 1/10\n",
            "7688/7688 [==============================] - 13s 2ms/step\n",
            "1922/1922 [==============================] - 3s 2ms/step\n",
            "roc-auc: 0.7654 - roc-auc_val: 0.7596                                                                                                    \n",
            "7688/7688 - 75s - loss: 0.2752 - val_loss: 0.2453 - 75s/epoch - 10ms/step\n",
            "Epoch 2/10\n",
            "7688/7688 [==============================] - 12s 2ms/step\n",
            "1922/1922 [==============================] - 3s 2ms/step\n",
            "roc-auc: 0.7734 - roc-auc_val: 0.765                                                                                                    \n",
            "7688/7688 - 69s - loss: 0.2511 - val_loss: 0.2437 - 69s/epoch - 9ms/step\n",
            "Epoch 3/10\n",
            "7688/7688 [==============================] - 13s 2ms/step\n",
            "1922/1922 [==============================] - 3s 2ms/step\n",
            "roc-auc: 0.7802 - roc-auc_val: 0.7683                                                                                                    \n",
            "7688/7688 - 69s - loss: 0.2485 - val_loss: 0.2431 - 69s/epoch - 9ms/step\n",
            "Epoch 4/10\n",
            "7688/7688 [==============================] - 13s 2ms/step\n",
            "1922/1922 [==============================] - 3s 2ms/step\n",
            "roc-auc: 0.7855 - roc-auc_val: 0.7694                                                                                                    \n",
            "7688/7688 - 69s - loss: 0.2468 - val_loss: 0.2424 - 69s/epoch - 9ms/step\n",
            "Epoch 5/10\n",
            "7688/7688 [==============================] - 13s 2ms/step\n",
            "1922/1922 [==============================] - 3s 2ms/step\n",
            "roc-auc: 0.7913 - roc-auc_val: 0.7714                                                                                                    \n",
            "7688/7688 - 69s - loss: 0.2450 - val_loss: 0.2420 - 69s/epoch - 9ms/step\n",
            "Epoch 6/10\n",
            "7688/7688 [==============================] - 12s 2ms/step\n",
            "1922/1922 [==============================] - 3s 2ms/step\n",
            "roc-auc: 0.7965 - roc-auc_val: 0.7715                                                                                                    \n",
            "7688/7688 - 70s - loss: 0.2439 - val_loss: 0.2417 - 70s/epoch - 9ms/step\n",
            "Epoch 7/10\n",
            "7688/7688 [==============================] - 13s 2ms/step\n",
            "1922/1922 [==============================] - 3s 2ms/step\n",
            "roc-auc: 0.8018 - roc-auc_val: 0.7705                                                                                                    \n",
            "7688/7688 - 69s - loss: 0.2419 - val_loss: 0.2437 - 69s/epoch - 9ms/step\n",
            "Epoch 8/10\n",
            "7688/7688 [==============================] - 13s 2ms/step\n",
            "1922/1922 [==============================] - 3s 2ms/step\n",
            "roc-auc: 0.8071 - roc-auc_val: 0.769                                                                                                    \n",
            "7688/7688 - 70s - loss: 0.2410 - val_loss: 0.2431 - 70s/epoch - 9ms/step\n",
            "Epoch 9/10\n",
            "7688/7688 [==============================] - 13s 2ms/step\n",
            "1922/1922 [==============================] - 3s 2ms/step\n",
            "roc-auc: 0.8119 - roc-auc_val: 0.771                                                                                                    \n",
            "7688/7688 - 71s - loss: 0.2397 - val_loss: 0.2421 - 71s/epoch - 9ms/step\n",
            "Epoch 10/10\n",
            "7688/7688 [==============================] - 13s 2ms/step\n",
            "1922/1922 [==============================] - 3s 2ms/step\n",
            "roc-auc: 0.8194 - roc-auc_val: 0.7682                                                                                                    \n",
            "7688/7688 - 70s - loss: 0.2380 - val_loss: 0.2437 - 70s/epoch - 9ms/step\n",
            "Predicting...\n",
            "1524/1524 [==============================] - 3s 2ms/step\n",
            "Setting up neural network...\n",
            "Fitting neural network...\n",
            "Epoch 1/10\n",
            "7688/7688 [==============================] - 13s 2ms/step\n",
            "1922/1922 [==============================] - 3s 2ms/step\n",
            "roc-auc: 0.769 - roc-auc_val: 0.7591                                                                                                    \n",
            "7688/7688 - 73s - loss: 0.2749 - val_loss: 0.2511 - 73s/epoch - 10ms/step\n",
            "Epoch 2/10\n",
            "7688/7688 [==============================] - 12s 2ms/step\n",
            "1922/1922 [==============================] - 3s 2ms/step\n",
            "roc-auc: 0.7754 - roc-auc_val: 0.7651                                                                                                    \n",
            "7688/7688 - 69s - loss: 0.2495 - val_loss: 0.2485 - 69s/epoch - 9ms/step\n",
            "Epoch 3/10\n",
            "7688/7688 [==============================] - 13s 2ms/step\n",
            "1922/1922 [==============================] - 3s 2ms/step\n",
            "roc-auc: 0.7785 - roc-auc_val: 0.7646                                                                                                    \n",
            "7688/7688 - 70s - loss: 0.2473 - val_loss: 0.2490 - 70s/epoch - 9ms/step\n",
            "Epoch 4/10\n",
            "7688/7688 [==============================] - 12s 2ms/step\n",
            "1922/1922 [==============================] - 3s 2ms/step\n",
            "roc-auc: 0.7858 - roc-auc_val: 0.7667                                                                                                    \n",
            "7688/7688 - 69s - loss: 0.2451 - val_loss: 0.2481 - 69s/epoch - 9ms/step\n",
            "Epoch 5/10\n",
            "7688/7688 [==============================] - 13s 2ms/step\n",
            "1922/1922 [==============================] - 3s 2ms/step\n",
            "roc-auc: 0.7927 - roc-auc_val: 0.768                                                                                                    \n",
            "7688/7688 - 69s - loss: 0.2435 - val_loss: 0.2485 - 69s/epoch - 9ms/step\n",
            "Epoch 6/10\n",
            "7688/7688 [==============================] - 13s 2ms/step\n",
            "1922/1922 [==============================] - 3s 2ms/step\n",
            "roc-auc: 0.797 - roc-auc_val: 0.7646                                                                                                    \n",
            "7688/7688 - 69s - loss: 0.2420 - val_loss: 0.2488 - 69s/epoch - 9ms/step\n",
            "Epoch 7/10\n",
            "7688/7688 [==============================] - 13s 2ms/step\n",
            "1922/1922 [==============================] - 3s 2ms/step\n",
            "roc-auc: 0.8037 - roc-auc_val: 0.7685                                                                                                    \n",
            "7688/7688 - 69s - loss: 0.2410 - val_loss: 0.2476 - 69s/epoch - 9ms/step\n",
            "Epoch 8/10\n",
            "7688/7688 [==============================] - 13s 2ms/step\n",
            "1922/1922 [==============================] - 3s 2ms/step\n",
            "roc-auc: 0.81 - roc-auc_val: 0.7671                                                                                                    \n",
            "7688/7688 - 69s - loss: 0.2391 - val_loss: 0.2483 - 69s/epoch - 9ms/step\n",
            "Epoch 9/10\n",
            "7688/7688 [==============================] - 13s 2ms/step\n",
            "1922/1922 [==============================] - 3s 2ms/step\n",
            "roc-auc: 0.8151 - roc-auc_val: 0.7645                                                                                                    \n",
            "7688/7688 - 69s - loss: 0.2378 - val_loss: 0.2490 - 69s/epoch - 9ms/step\n",
            "Epoch 10/10\n",
            "7688/7688 [==============================] - 13s 2ms/step\n",
            "1922/1922 [==============================] - 3s 2ms/step\n",
            "roc-auc: 0.8173 - roc-auc_val: 0.7623                                                                                                    \n",
            "7688/7688 - 69s - loss: 0.2360 - val_loss: 0.2496 - 69s/epoch - 9ms/step\n",
            "Predicting...\n",
            "1524/1524 [==============================] - 2s 2ms/step\n",
            "Setting up neural network...\n",
            "Fitting neural network...\n",
            "Epoch 1/10\n",
            "7688/7688 [==============================] - 13s 2ms/step\n",
            "1922/1922 [==============================] - 3s 2ms/step\n",
            "roc-auc: 0.7672 - roc-auc_val: 0.7608                                                                                                    \n",
            "7688/7688 - 74s - loss: 0.2761 - val_loss: 0.2444 - 74s/epoch - 10ms/step\n",
            "Epoch 2/10\n",
            "7688/7688 [==============================] - 13s 2ms/step\n",
            "1922/1922 [==============================] - 3s 2ms/step\n",
            "roc-auc: 0.7735 - roc-auc_val: 0.7668                                                                                                    \n",
            "7688/7688 - 69s - loss: 0.2518 - val_loss: 0.2419 - 69s/epoch - 9ms/step\n",
            "Epoch 3/10\n",
            "7688/7688 [==============================] - 13s 2ms/step\n",
            "1922/1922 [==============================] - 3s 2ms/step\n",
            "roc-auc: 0.7796 - roc-auc_val: 0.7693                                                                                                    \n",
            "7688/7688 - 70s - loss: 0.2487 - val_loss: 0.2421 - 70s/epoch - 9ms/step\n",
            "Epoch 4/10\n",
            "7688/7688 [==============================] - 13s 2ms/step\n",
            "1922/1922 [==============================] - 3s 2ms/step\n",
            "roc-auc: 0.7824 - roc-auc_val: 0.7671                                                                                                    \n",
            "7688/7688 - 69s - loss: 0.2468 - val_loss: 0.2417 - 69s/epoch - 9ms/step\n",
            "Epoch 5/10\n",
            "7688/7688 [==============================] - 13s 2ms/step\n",
            "1922/1922 [==============================] - 3s 2ms/step\n",
            "roc-auc: 0.7891 - roc-auc_val: 0.7711                                                                                                    \n",
            "7688/7688 - 69s - loss: 0.2458 - val_loss: 0.2414 - 69s/epoch - 9ms/step\n",
            "Epoch 6/10\n",
            "7688/7688 [==============================] - 13s 2ms/step\n",
            "1922/1922 [==============================] - 3s 2ms/step\n",
            "roc-auc: 0.7943 - roc-auc_val: 0.7709                                                                                                    \n",
            "7688/7688 - 69s - loss: 0.2441 - val_loss: 0.2407 - 69s/epoch - 9ms/step\n",
            "Epoch 7/10\n",
            "7688/7688 [==============================] - 13s 2ms/step\n",
            "1922/1922 [==============================] - 3s 2ms/step\n",
            "roc-auc: 0.7997 - roc-auc_val: 0.7706                                                                                                    \n",
            "7688/7688 - 70s - loss: 0.2429 - val_loss: 0.2408 - 70s/epoch - 9ms/step\n",
            "Epoch 8/10\n",
            "7688/7688 [==============================] - 13s 2ms/step\n",
            "1922/1922 [==============================] - 3s 2ms/step\n",
            "roc-auc: 0.807 - roc-auc_val: 0.7712                                                                                                    \n",
            "7688/7688 - 70s - loss: 0.2414 - val_loss: 0.2407 - 70s/epoch - 9ms/step\n",
            "Epoch 9/10\n",
            "7688/7688 [==============================] - 13s 2ms/step\n",
            "1922/1922 [==============================] - 3s 2ms/step\n",
            "roc-auc: 0.813 - roc-auc_val: 0.7713                                                                                                    \n",
            "7688/7688 - 69s - loss: 0.2399 - val_loss: 0.2403 - 69s/epoch - 9ms/step\n",
            "Epoch 10/10\n",
            "7688/7688 [==============================] - 13s 2ms/step\n",
            "1922/1922 [==============================] - 3s 2ms/step\n",
            "roc-auc: 0.8143 - roc-auc_val: 0.7692                                                                                                    \n",
            "7688/7688 - 69s - loss: 0.2388 - val_loss: 0.2411 - 69s/epoch - 9ms/step\n",
            "Predicting...\n",
            "1524/1524 [==============================] - 2s 2ms/step\n",
            "Setting up neural network...\n",
            "Fitting neural network...\n",
            "Epoch 1/10\n",
            "7688/7688 [==============================] - 13s 2ms/step\n",
            "1922/1922 [==============================] - 3s 2ms/step\n",
            "roc-auc: 0.766 - roc-auc_val: 0.7609                                                                                                    \n",
            "7688/7688 - 75s - loss: 0.2764 - val_loss: 0.2456 - 75s/epoch - 10ms/step\n",
            "Epoch 2/10\n",
            "7688/7688 [==============================] - 13s 2ms/step\n",
            "1922/1922 [==============================] - 3s 2ms/step\n",
            "roc-auc: 0.7712 - roc-auc_val: 0.7654                                                                                                    \n",
            "7688/7688 - 69s - loss: 0.2511 - val_loss: 0.2445 - 69s/epoch - 9ms/step\n",
            "Epoch 3/10\n",
            "7688/7688 [==============================] - 13s 2ms/step\n",
            "1922/1922 [==============================] - 3s 2ms/step\n",
            "roc-auc: 0.7767 - roc-auc_val: 0.7675                                                                                                    \n",
            "7688/7688 - 70s - loss: 0.2487 - val_loss: 0.2435 - 70s/epoch - 9ms/step\n",
            "Epoch 4/10\n",
            "7688/7688 [==============================] - 13s 2ms/step\n",
            "1922/1922 [==============================] - 3s 2ms/step\n",
            "roc-auc: 0.7845 - roc-auc_val: 0.7705                                                                                                    \n",
            "7688/7688 - 69s - loss: 0.2465 - val_loss: 0.2428 - 69s/epoch - 9ms/step\n",
            "Epoch 5/10\n",
            "7688/7688 [==============================] - 13s 2ms/step\n",
            "1922/1922 [==============================] - 3s 2ms/step\n",
            "roc-auc: 0.7909 - roc-auc_val: 0.7722                                                                                                    \n",
            "7688/7688 - 69s - loss: 0.2449 - val_loss: 0.2420 - 69s/epoch - 9ms/step\n",
            "Epoch 6/10\n",
            "7688/7688 [==============================] - 13s 2ms/step\n",
            "1922/1922 [==============================] - 3s 2ms/step\n",
            "roc-auc: 0.7957 - roc-auc_val: 0.7702                                                                                                    \n",
            "7688/7688 - 70s - loss: 0.2435 - val_loss: 0.2429 - 70s/epoch - 9ms/step\n",
            "Epoch 7/10\n",
            "7688/7688 [==============================] - 12s 2ms/step\n",
            "1922/1922 [==============================] - 3s 2ms/step\n",
            "roc-auc: 0.8015 - roc-auc_val: 0.772                                                                                                    \n",
            "7688/7688 - 70s - loss: 0.2421 - val_loss: 0.2424 - 70s/epoch - 9ms/step\n",
            "Epoch 8/10\n",
            "7688/7688 [==============================] - 13s 2ms/step\n",
            "1922/1922 [==============================] - 3s 2ms/step\n",
            "roc-auc: 0.8073 - roc-auc_val: 0.7695                                                                                                    \n",
            "7688/7688 - 70s - loss: 0.2407 - val_loss: 0.2426 - 70s/epoch - 9ms/step\n",
            "Epoch 9/10\n",
            "7688/7688 [==============================] - 13s 2ms/step\n",
            "1922/1922 [==============================] - 3s 2ms/step\n",
            "roc-auc: 0.8137 - roc-auc_val: 0.7701                                                                                                    \n",
            "7688/7688 - 70s - loss: 0.2393 - val_loss: 0.2425 - 70s/epoch - 9ms/step\n",
            "Epoch 10/10\n",
            "7688/7688 [==============================] - 13s 2ms/step\n",
            "1922/1922 [==============================] - 3s 2ms/step\n",
            "roc-auc: 0.8213 - roc-auc_val: 0.7688                                                                                                    \n",
            "7688/7688 - 70s - loss: 0.2375 - val_loss: 0.2431 - 70s/epoch - 9ms/step\n",
            "Predicting...\n",
            "1524/1524 [==============================] - 3s 2ms/step\n"
          ]
        }
      ]
    },
    {
      "cell_type": "code",
      "source": [
        "print( 'Saving results...' )\n",
        "sub = pd.DataFrame()\n",
        "sub['SK_ID_CURR'] = merged[testing]['SK_ID_CURR']\n",
        "sub['TARGET'] = sub_preds\n",
        "\n",
        "sub = sub.merge(merged_rates, on = 'SK_ID_CURR')\n",
        "\n",
        "print( sub.head() )"
      ],
      "metadata": {
        "colab": {
          "base_uri": "https://localhost:8080/"
        },
        "id": "4mQrs5dOU2mV",
        "outputId": "c918d7a9-4310-4003-c04e-b824cf67b2ae"
      },
      "execution_count": null,
      "outputs": [
        {
          "output_type": "stream",
          "name": "stdout",
          "text": [
            "Saving results...\n",
            "   SK_ID_CURR    TARGET  drawdown_rate  utilization_rate\n",
            "0      100001  0.014165       0.008140          0.024832\n",
            "1      100005  0.113689       0.023754          0.072462\n",
            "2      100013  0.073343       0.008975          0.027380\n",
            "3      100028  0.053413       0.003909          0.005133\n",
            "4      100038  0.142832       0.009657          0.033126\n"
          ]
        }
      ]
    },
    {
      "cell_type": "code",
      "source": [
        "path='/content/drive/MyDrive/Thesis/Home Credit Section/Final [Small]/'\n",
        "sub.to_csv(path+'predictor_small_NN.csv', index = False)"
      ],
      "metadata": {
        "id": "Zcb8Rb9kkKzu"
      },
      "execution_count": null,
      "outputs": []
    },
    {
      "cell_type": "code",
      "source": [],
      "metadata": {
        "id": "BcxYLWVakeke"
      },
      "execution_count": null,
      "outputs": []
    }
  ]
}