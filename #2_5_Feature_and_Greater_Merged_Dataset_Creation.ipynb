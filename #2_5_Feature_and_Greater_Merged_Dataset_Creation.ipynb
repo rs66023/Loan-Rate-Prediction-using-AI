{
  "nbformat": 4,
  "nbformat_minor": 0,
  "metadata": {
    "colab": {
      "provenance": [],
      "machine_shape": "hm",
      "gpuType": "T4"
    },
    "kernelspec": {
      "name": "python3",
      "display_name": "Python 3"
    },
    "language_info": {
      "name": "python"
    },
    "accelerator": "GPU"
  },
  "cells": [
    {
      "cell_type": "code",
      "execution_count": null,
      "metadata": {
        "colab": {
          "base_uri": "https://localhost:8080/"
        },
        "id": "Uod4Wg7UxrV-",
        "outputId": "4c5d2732-7e36-41fe-f68a-84a5c1ec2d29"
      },
      "outputs": [
        {
          "output_type": "stream",
          "name": "stdout",
          "text": [
            "Drive already mounted at /content/drive; to attempt to forcibly remount, call drive.mount(\"/content/drive\", force_remount=True).\n"
          ]
        }
      ],
      "source": [
        "from google.colab import drive\n",
        "drive.mount('/content/drive')"
      ]
    },
    {
      "cell_type": "code",
      "source": [
        "!pip install featuretools"
      ],
      "metadata": {
        "colab": {
          "base_uri": "https://localhost:8080/"
        },
        "id": "cl4AfFRBxyou",
        "outputId": "91a1e514-17b7-49b6-f4da-b8c42811af0e"
      },
      "execution_count": null,
      "outputs": [
        {
          "output_type": "stream",
          "name": "stdout",
          "text": [
            "Requirement already satisfied: featuretools in /usr/local/lib/python3.10/dist-packages (1.27.0)\n",
            "Requirement already satisfied: cloudpickle>=1.5.0 in /usr/local/lib/python3.10/dist-packages (from featuretools) (2.2.1)\n",
            "Requirement already satisfied: holidays>=0.13 in /usr/local/lib/python3.10/dist-packages (from featuretools) (0.30)\n",
            "Requirement already satisfied: numpy>=1.21.0 in /usr/local/lib/python3.10/dist-packages (from featuretools) (1.23.5)\n",
            "Requirement already satisfied: packaging>=20.0 in /usr/local/lib/python3.10/dist-packages (from featuretools) (23.1)\n",
            "Requirement already satisfied: pandas>=1.5.0 in /usr/local/lib/python3.10/dist-packages (from featuretools) (1.5.3)\n",
            "Requirement already satisfied: psutil>=5.6.6 in /usr/local/lib/python3.10/dist-packages (from featuretools) (5.9.5)\n",
            "Requirement already satisfied: scipy>=1.10.0 in /usr/local/lib/python3.10/dist-packages (from featuretools) (1.10.1)\n",
            "Requirement already satisfied: tqdm>=4.32.0 in /usr/local/lib/python3.10/dist-packages (from featuretools) (4.66.1)\n",
            "Requirement already satisfied: woodwork>=0.23.0 in /usr/local/lib/python3.10/dist-packages (from featuretools) (0.25.1)\n",
            "Requirement already satisfied: python-dateutil in /usr/local/lib/python3.10/dist-packages (from holidays>=0.13->featuretools) (2.8.2)\n",
            "Requirement already satisfied: pytz>=2020.1 in /usr/local/lib/python3.10/dist-packages (from pandas>=1.5.0->featuretools) (2023.3)\n",
            "Requirement already satisfied: scikit-learn>=0.22 in /usr/local/lib/python3.10/dist-packages (from woodwork>=0.23.0->featuretools) (1.2.2)\n",
            "Requirement already satisfied: importlib-resources>=5.10.0 in /usr/local/lib/python3.10/dist-packages (from woodwork>=0.23.0->featuretools) (6.0.1)\n",
            "Requirement already satisfied: six>=1.5 in /usr/local/lib/python3.10/dist-packages (from python-dateutil->holidays>=0.13->featuretools) (1.16.0)\n",
            "Requirement already satisfied: joblib>=1.1.1 in /usr/local/lib/python3.10/dist-packages (from scikit-learn>=0.22->woodwork>=0.23.0->featuretools) (1.3.2)\n",
            "Requirement already satisfied: threadpoolctl>=2.0.0 in /usr/local/lib/python3.10/dist-packages (from scikit-learn>=0.22->woodwork>=0.23.0->featuretools) (3.2.0)\n"
          ]
        }
      ]
    },
    {
      "cell_type": "code",
      "source": [
        "# pandas and numpy for data manipulation\n",
        "import pandas as pd\n",
        "import numpy as np\n",
        "\n",
        "# featuretools for automated feature engineering\n",
        "import featuretools as ft\n",
        "\n",
        "# matplotlit and seaborn for visualizations\n",
        "import matplotlib.pyplot as plt\n",
        "plt.rcParams['font.size'] = 22\n",
        "import seaborn as sns\n",
        "\n",
        "# Suppress warnings from pandas\n",
        "import warnings\n",
        "warnings.filterwarnings('ignore')\n",
        "\n",
        "# modeling\n",
        "import lightgbm as lgb\n",
        "\n",
        "# utilities\n",
        "from sklearn.model_selection import train_test_split\n",
        "from sklearn.model_selection import KFold\n",
        "from sklearn.metrics import roc_auc_score\n",
        "from sklearn.preprocessing import LabelEncoder\n",
        "\n",
        "# memory management\n",
        "import gc"
      ],
      "metadata": {
        "id": "yQYXOUmox0Uz"
      },
      "execution_count": null,
      "outputs": []
    },
    {
      "cell_type": "markdown",
      "source": [
        "\n",
        "\n",
        "    train_bureau is the training features built manually using the bureau and bureau_balance data\n",
        "    train_previous is the training features built manually using the previous, cash, credit, and installments data\n",
        "\n",
        "Initially, we assess count of features generated through manual engineering. Employing set operations, we distinguish columns exclusive to the bureau dataframe, exclusive to the previous dataframe, and those present in both dataframes. These observations indicate original features from the application dataframe. The code is executed on a limited data subset to prevent kernel overload. The same code has also been executed on the complete dataset, with some results provided for examination.\n"
      ],
      "metadata": {
        "id": "10QC5eS6HSRg"
      }
    },
    {
      "cell_type": "code",
      "source": [
        "# Read in data\n",
        "train_bureau = pd.read_csv('/content/drive/MyDrive/Thesis/Home Credit Section/Preprocessing/train_bureau_raw.csv')\n",
        "test_bureau = pd.read_csv('/content/drive/MyDrive/Thesis/Home Credit Section/Preprocessing/test_bureau_raw.csv')\n",
        "\n",
        "\n",
        "train_previous = pd.read_csv('/content/drive/MyDrive/Thesis/Home Credit Section/Preprocessing/train_previous_raw.csv')\n",
        "test_previous = pd.read_csv('/content/drive/MyDrive/Thesis/Home Credit Section/Preprocessing/test_previous_raw.csv')\n",
        "\n",
        "# All columns in dataframes\n",
        "bureau_columns = list(train_bureau.columns)\n",
        "previous_columns = list(train_previous.columns)"
      ],
      "metadata": {
        "id": "fKnm7NQvx1QQ"
      },
      "execution_count": null,
      "outputs": []
    },
    {
      "cell_type": "code",
      "source": [
        "# Bureau only features\n",
        "bureau_features = list(set(bureau_columns) - set(previous_columns))\n",
        "\n",
        "# Previous only features\n",
        "previous_features = list(set(previous_columns) - set(bureau_columns))\n",
        "\n",
        "# Original features will be in both datasets\n",
        "original_features = list(set(previous_columns) & set(bureau_columns))\n",
        "\n",
        "print('There are %d original features.' % len(original_features))\n",
        "print('There are %d bureau and bureau balance features.' % len(bureau_features))\n",
        "print('There are %d previous Home Credit loan features.' % len(previous_features))"
      ],
      "metadata": {
        "colab": {
          "base_uri": "https://localhost:8080/"
        },
        "id": "yavAxE4rx24e",
        "outputId": "d794ac75-b893-4a1e-caac-c841012914e9"
      },
      "execution_count": null,
      "outputs": [
        {
          "output_type": "stream",
          "name": "stdout",
          "text": [
            "There are 122 original features.\n",
            "There are 211 bureau and bureau balance features.\n",
            "There are 1003 previous Home Credit loan features.\n"
          ]
        }
      ]
    },
    {
      "cell_type": "code",
      "source": [
        "train_labels = train_bureau['TARGET']\n",
        "previous_features.append('SK_ID_CURR')\n",
        "\n",
        "train_ids = train_bureau['SK_ID_CURR']\n",
        "test_ids = test_bureau['SK_ID_CURR']\n",
        "\n",
        "# Merge the dataframes avoiding duplicating columns by subsetting train_previous\n",
        "train = train_bureau.merge(train_previous[previous_features], on = 'SK_ID_CURR')\n",
        "test = test_bureau.merge(test_previous[previous_features], on = 'SK_ID_CURR')\n",
        "\n",
        "application_train = train.drop(columns=['TARGET'])\n",
        "merged=pd.concat([application_train, test],  ignore_index=True, sort=False)\n",
        "target=merged_2=pd.DataFrame()\n",
        "merged_2['SK_ID_CURR']=train['SK_ID_CURR']\n",
        "merged_2['TARGET']=train['TARGET']\n",
        "\n",
        "print('Training shape: ', train.shape)\n",
        "print('Testing shape: ', test.shape)\n",
        "print('Testing shape: ', merged.shape)"
      ],
      "metadata": {
        "colab": {
          "base_uri": "https://localhost:8080/"
        },
        "id": "NQFmY20Dx7DE",
        "outputId": "40c10db0-f77f-4d8a-d160-f338743af6a9"
      },
      "execution_count": null,
      "outputs": [
        {
          "output_type": "stream",
          "name": "stdout",
          "text": [
            "Training shape:  (307511, 1336)\n",
            "Testing shape:  (48744, 1335)\n",
            "Testing shape:  (356255, 1335)\n"
          ]
        }
      ]
    },
    {
      "cell_type": "code",
      "source": [
        "merged['client_credit_AMT_BALANCE_mean_mean']=merged['client_credit_AMT_BALANCE_mean_mean'].interpolate()\n",
        "merged['client_credit_AMT_DRAWINGS_CURRENT_mean_mean']=merged['client_credit_AMT_DRAWINGS_CURRENT_mean_mean'].interpolate()\n",
        "\n",
        "merged_2=pd.DataFrame()\n",
        "merged_2['SK_ID_CURR']=merged['SK_ID_CURR']\n",
        "merged_2['AMT_CREDIT']=merged['AMT_CREDIT']\n",
        "merged_2['client_credit_AMT_BALANCE_mean_mean']=merged['client_credit_AMT_BALANCE_mean_mean']\n",
        "merged_2['client_credit_AMT_DRAWINGS_CURRENT_mean_mean']=merged['client_credit_AMT_DRAWINGS_CURRENT_mean_mean']\n",
        "merged_2['Drawdown Rate']=merged_2['client_credit_AMT_DRAWINGS_CURRENT_mean_mean']/merged_2['AMT_CREDIT']\n",
        "merged_2['Utilization Rate']=merged_2['client_credit_AMT_BALANCE_mean_mean']/merged_2['AMT_CREDIT']\n",
        "merged_2=merged_2.drop(columns=['AMT_CREDIT'])\n",
        "\n",
        "print('Predictor Variables: ', merged_2.shape)\n",
        "path='/content/drive/MyDrive/Thesis/Home Credit Section/Final [Small]/'\n",
        "#merged_2.to_csv(path+'modified_merged.csv', index = False)"
      ],
      "metadata": {
        "id": "86foXi4C_-hF",
        "colab": {
          "base_uri": "https://localhost:8080/"
        },
        "outputId": "fe9c608b-57ea-4a57-ddae-d406bdb9494c"
      },
      "execution_count": null,
      "outputs": [
        {
          "output_type": "stream",
          "name": "stdout",
          "text": [
            "Predictor Variables:  (356255, 5)\n"
          ]
        }
      ]
    }
  ]
}