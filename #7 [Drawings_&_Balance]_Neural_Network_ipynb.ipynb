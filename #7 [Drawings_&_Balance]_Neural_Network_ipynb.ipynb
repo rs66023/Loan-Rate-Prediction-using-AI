{
  "nbformat": 4,
  "nbformat_minor": 0,
  "metadata": {
    "colab": {
      "provenance": [],
      "machine_shape": "hm",
      "gpuType": "T4"
    },
    "kernelspec": {
      "name": "python3",
      "display_name": "Python 3"
    },
    "language_info": {
      "name": "python"
    },
    "accelerator": "GPU"
  },
  "cells": [
    {
      "cell_type": "code",
      "execution_count": null,
      "metadata": {
        "colab": {
          "base_uri": "https://localhost:8080/"
        },
        "id": "iH3JNU2ZdN-H",
        "outputId": "a6fbdef5-6cc5-4846-d5b6-f3697244bc8e"
      },
      "outputs": [
        {
          "output_type": "stream",
          "name": "stdout",
          "text": [
            "Mounted at /content/drive\n"
          ]
        }
      ],
      "source": [
        "from google.colab import drive\n",
        "drive.mount('/content/drive')"
      ]
    },
    {
      "cell_type": "code",
      "source": [
        "# numpy and pandas for data manipulation\n",
        "import numpy as np\n",
        "import pandas as pd\n",
        "import tensorflow as tf\n",
        "from tensorflow import keras\n",
        "\n",
        "# modeling\n",
        "from sklearn.model_selection import train_test_split\n",
        "from sklearn.preprocessing import StandardScaler\n",
        "from keras.models import Sequential\n",
        "from keras.layers import Dense\n",
        "from keras.layers import Dropout, BatchNormalization\n",
        "from keras.layers import PReLU\n",
        "from keras.optimizers import Adam\n",
        "from tensorflow.keras import layers, regularizers\n",
        "\n",
        "# memory management\n",
        "import gc"
      ],
      "metadata": {
        "id": "vytmDkG2dcdp"
      },
      "execution_count": null,
      "outputs": []
    },
    {
      "cell_type": "markdown",
      "source": [
        "# Calling Datasets"
      ],
      "metadata": {
        "id": "GKaU8Z4RdeRD"
      }
    },
    {
      "cell_type": "code",
      "source": [
        "#Datasets\n",
        "application_train = pd.read_csv('/content/drive/MyDrive/Thesis/Home Credit Section/Final [Small]/predictor_train_small.csv')\n",
        "application_test = pd.read_csv('/content/drive/MyDrive/Thesis/Home Credit Section/Final [Small]/predictor_test_small.csv')\n",
        "\n",
        "\n",
        "merged=pd.concat([application_train, application_test],  ignore_index=True, sort=False)\n",
        "merged=merged.fillna(0)"
      ],
      "metadata": {
        "id": "B-RmN4QUhSRA"
      },
      "execution_count": null,
      "outputs": []
    },
    {
      "cell_type": "markdown",
      "source": [
        "# Model (Balances)\n"
      ],
      "metadata": {
        "id": "Hatd0fkDL9Ek"
      }
    },
    {
      "cell_type": "code",
      "source": [
        "# Separate features and target variable\n",
        "X = merged.drop('client_credit_AMT_BALANCE_mean_mean', axis=1)\n",
        "y = merged['client_credit_AMT_BALANCE_mean_mean']\n",
        "\n",
        "# Split the data into training and testing sets\n",
        "X_train, X_test, y_train, y_test = train_test_split(X, y, test_size=0.2, random_state=42)"
      ],
      "metadata": {
        "id": "LX5nuyRfBKxA"
      },
      "execution_count": null,
      "outputs": []
    },
    {
      "cell_type": "code",
      "source": [
        "# Standardize the features\n",
        "scaler = StandardScaler()\n",
        "X_train_scaled = scaler.fit_transform(X_train)\n",
        "X_test_scaled = scaler.transform(X_test)"
      ],
      "metadata": {
        "id": "8gv9YzZ7BTX9"
      },
      "execution_count": null,
      "outputs": []
    },
    {
      "cell_type": "code",
      "source": [
        "#Neural Network model with regularization\n",
        "model = keras.Sequential([\n",
        "    layers.Dense(128, activation='relu', input_shape=(X_train_scaled.shape[1],)),\n",
        "    layers.Dropout(0.5),\n",
        "    layers.Dense(64, activation='relu', kernel_regularizer=regularizers.l2(0.01)),  # L2 regularization\n",
        "    layers.Dropout(0.5),\n",
        "    layers.Dense(32, activation='relu', kernel_regularizer=regularizers.l2(0.01)),\n",
        "    layers.Dense(1)\n",
        "])\n",
        "\n",
        "# Compile the model\n",
        "model.compile(optimizer='adam', loss='mean_squared_error')\n",
        "\n",
        "# Train the model\n",
        "history = model.fit(X_train_scaled, y_train, epochs=50, batch_size=32, validation_split=0.2, verbose=1)\n",
        "\n",
        "# Evaluate the model on the test set\n",
        "test_loss = model.evaluate(X_test_scaled, y_test)\n",
        "print(f\"Test Loss: {test_loss}\")\n",
        "\n",
        "# Make predictions\n",
        "predictions = model.predict(X_test_scaled)"
      ],
      "metadata": {
        "colab": {
          "base_uri": "https://localhost:8080/"
        },
        "id": "_puetFNVBJeE",
        "outputId": "9c93c1c4-ab4f-4a36-8f8c-0a6e0043ec6a"
      },
      "execution_count": null,
      "outputs": [
        {
          "output_type": "stream",
          "name": "stdout",
          "text": [
            "Epoch 1/50\n",
            "7126/7126 [==============================] - 28s 3ms/step - loss: 3586467840.0000 - val_loss: 2240282368.0000\n",
            "Epoch 2/50\n",
            "7126/7126 [==============================] - 20s 3ms/step - loss: 2169988352.0000 - val_loss: 1719448064.0000\n",
            "Epoch 3/50\n",
            "7126/7126 [==============================] - 21s 3ms/step - loss: 1896323968.0000 - val_loss: 1568529920.0000\n",
            "Epoch 4/50\n",
            "7126/7126 [==============================] - 20s 3ms/step - loss: 1837948544.0000 - val_loss: 1545180416.0000\n",
            "Epoch 5/50\n",
            "7126/7126 [==============================] - 20s 3ms/step - loss: 1813393920.0000 - val_loss: 1580294912.0000\n",
            "Epoch 6/50\n",
            "7126/7126 [==============================] - 21s 3ms/step - loss: 1779731968.0000 - val_loss: 1491674624.0000\n",
            "Epoch 7/50\n",
            "7126/7126 [==============================] - 20s 3ms/step - loss: 1767130752.0000 - val_loss: 1482731648.0000\n",
            "Epoch 8/50\n",
            "7126/7126 [==============================] - 21s 3ms/step - loss: 1759374848.0000 - val_loss: 1466027136.0000\n",
            "Epoch 9/50\n",
            "7126/7126 [==============================] - 20s 3ms/step - loss: 1727322624.0000 - val_loss: 1434656128.0000\n",
            "Epoch 10/50\n",
            "7126/7126 [==============================] - 20s 3ms/step - loss: 1740402944.0000 - val_loss: 1430817024.0000\n",
            "Epoch 11/50\n",
            "7126/7126 [==============================] - 21s 3ms/step - loss: 1705799552.0000 - val_loss: 1425408640.0000\n",
            "Epoch 12/50\n",
            "7126/7126 [==============================] - 21s 3ms/step - loss: 1686057728.0000 - val_loss: 1409387136.0000\n",
            "Epoch 13/50\n",
            "7126/7126 [==============================] - 21s 3ms/step - loss: 1695219072.0000 - val_loss: 1430525824.0000\n",
            "Epoch 14/50\n",
            "7126/7126 [==============================] - 21s 3ms/step - loss: 1679327488.0000 - val_loss: 1394198528.0000\n",
            "Epoch 15/50\n",
            "7126/7126 [==============================] - 21s 3ms/step - loss: 1673575424.0000 - val_loss: 1417016960.0000\n",
            "Epoch 16/50\n",
            "7126/7126 [==============================] - 21s 3ms/step - loss: 1681568128.0000 - val_loss: 1434141696.0000\n",
            "Epoch 17/50\n",
            "7126/7126 [==============================] - 20s 3ms/step - loss: 1674782976.0000 - val_loss: 1388525056.0000\n",
            "Epoch 18/50\n",
            "7126/7126 [==============================] - 21s 3ms/step - loss: 1690068608.0000 - val_loss: 1397784832.0000\n",
            "Epoch 19/50\n",
            "7126/7126 [==============================] - 20s 3ms/step - loss: 1679072896.0000 - val_loss: 1381561216.0000\n",
            "Epoch 20/50\n",
            "7126/7126 [==============================] - 21s 3ms/step - loss: 1663457024.0000 - val_loss: 1366346752.0000\n",
            "Epoch 21/50\n",
            "7126/7126 [==============================] - 20s 3ms/step - loss: 1663704320.0000 - val_loss: 1365052800.0000\n",
            "Epoch 22/50\n",
            "7126/7126 [==============================] - 20s 3ms/step - loss: 1682173184.0000 - val_loss: 1361730048.0000\n",
            "Epoch 23/50\n",
            "7126/7126 [==============================] - 21s 3ms/step - loss: 1664921472.0000 - val_loss: 1369164672.0000\n",
            "Epoch 24/50\n",
            "7126/7126 [==============================] - 21s 3ms/step - loss: 1637300096.0000 - val_loss: 1353771008.0000\n",
            "Epoch 25/50\n",
            "7126/7126 [==============================] - 20s 3ms/step - loss: 1647397888.0000 - val_loss: 1356662912.0000\n",
            "Epoch 26/50\n",
            "7126/7126 [==============================] - 20s 3ms/step - loss: 1629348992.0000 - val_loss: 1390303360.0000\n",
            "Epoch 27/50\n",
            "7126/7126 [==============================] - 21s 3ms/step - loss: 1648271360.0000 - val_loss: 1340161664.0000\n",
            "Epoch 28/50\n",
            "7126/7126 [==============================] - 21s 3ms/step - loss: 1633663872.0000 - val_loss: 1338136832.0000\n",
            "Epoch 29/50\n",
            "7126/7126 [==============================] - 20s 3ms/step - loss: 1619062656.0000 - val_loss: 1354932352.0000\n",
            "Epoch 30/50\n",
            "7126/7126 [==============================] - 20s 3ms/step - loss: 1606787200.0000 - val_loss: 1358643200.0000\n",
            "Epoch 31/50\n",
            "7126/7126 [==============================] - 20s 3ms/step - loss: 1618155264.0000 - val_loss: 1336761856.0000\n",
            "Epoch 32/50\n",
            "7126/7126 [==============================] - 20s 3ms/step - loss: 1629170688.0000 - val_loss: 1302681344.0000\n",
            "Epoch 33/50\n",
            "7126/7126 [==============================] - 20s 3ms/step - loss: 1627192960.0000 - val_loss: 1329275648.0000\n",
            "Epoch 34/50\n",
            "7126/7126 [==============================] - 20s 3ms/step - loss: 1625007872.0000 - val_loss: 1309444480.0000\n",
            "Epoch 35/50\n",
            "7126/7126 [==============================] - 20s 3ms/step - loss: 1616992384.0000 - val_loss: 1341988992.0000\n",
            "Epoch 36/50\n",
            "7126/7126 [==============================] - 21s 3ms/step - loss: 1609814016.0000 - val_loss: 1319974144.0000\n",
            "Epoch 37/50\n",
            "7126/7126 [==============================] - 20s 3ms/step - loss: 1590710528.0000 - val_loss: 1293407488.0000\n",
            "Epoch 38/50\n",
            "7126/7126 [==============================] - 20s 3ms/step - loss: 1601591040.0000 - val_loss: 1306756352.0000\n",
            "Epoch 39/50\n",
            "7126/7126 [==============================] - 20s 3ms/step - loss: 1576551296.0000 - val_loss: 1317859584.0000\n",
            "Epoch 40/50\n",
            "7126/7126 [==============================] - 20s 3ms/step - loss: 1580680704.0000 - val_loss: 1286683136.0000\n",
            "Epoch 41/50\n",
            "7126/7126 [==============================] - 21s 3ms/step - loss: 1586315904.0000 - val_loss: 1274497408.0000\n",
            "Epoch 42/50\n",
            "7126/7126 [==============================] - 20s 3ms/step - loss: 1582211328.0000 - val_loss: 1294135424.0000\n",
            "Epoch 43/50\n",
            "7126/7126 [==============================] - 21s 3ms/step - loss: 1597889152.0000 - val_loss: 1288310144.0000\n",
            "Epoch 44/50\n",
            "7126/7126 [==============================] - 21s 3ms/step - loss: 1580033536.0000 - val_loss: 1282220288.0000\n",
            "Epoch 45/50\n",
            "7126/7126 [==============================] - 20s 3ms/step - loss: 1562959616.0000 - val_loss: 1261309952.0000\n",
            "Epoch 46/50\n",
            "7126/7126 [==============================] - 20s 3ms/step - loss: 1590526464.0000 - val_loss: 1282171776.0000\n",
            "Epoch 47/50\n",
            "7126/7126 [==============================] - 20s 3ms/step - loss: 1548389504.0000 - val_loss: 1296907136.0000\n",
            "Epoch 48/50\n",
            "7126/7126 [==============================] - 20s 3ms/step - loss: 1577426304.0000 - val_loss: 1278657920.0000\n",
            "Epoch 49/50\n",
            "7126/7126 [==============================] - 20s 3ms/step - loss: 1560041728.0000 - val_loss: 1256121088.0000\n",
            "Epoch 50/50\n",
            "7126/7126 [==============================] - 20s 3ms/step - loss: 1560818944.0000 - val_loss: 1299328896.0000\n",
            "2227/2227 [==============================] - 3s 1ms/step - loss: 1255592960.0000\n",
            "Test Loss: 1255592960.0\n",
            "2227/2227 [==============================] - 3s 1ms/step\n"
          ]
        }
      ]
    },
    {
      "cell_type": "code",
      "source": [
        "from sklearn.metrics import mean_absolute_error, mean_squared_error\n",
        "from sklearn.metrics import r2_score\n",
        "mae = mean_absolute_error(y_test, predictions)\n",
        "mse = mean_squared_error(y_test, predictions)\n",
        "rmse = np.sqrt(mse)\n",
        "r2 = r2_score(y_test, predictions)"
      ],
      "metadata": {
        "id": "6WykHIYPBQZe"
      },
      "execution_count": null,
      "outputs": []
    },
    {
      "cell_type": "code",
      "source": [
        "print(f\"Mean Absolute Error (MAE): {mae}\")\n",
        "print(f\"Mean Squared Error (MSE): {mse}\")\n",
        "print(f\"Root Mean Squared Error (RMSE): {rmse}\")\n",
        "print(f\"R-squared score: {r2}\")"
      ],
      "metadata": {
        "colab": {
          "base_uri": "https://localhost:8080/"
        },
        "id": "aSNqCf9qI1nC",
        "outputId": "5ec5993e-627f-44f6-9762-91749b08debd"
      },
      "execution_count": null,
      "outputs": [
        {
          "output_type": "stream",
          "name": "stdout",
          "text": [
            "Mean Absolute Error (MAE): 18164.57084905082\n",
            "Mean Squared Error (MSE): 1255592652.2230372\n",
            "Root Mean Squared Error (RMSE): 35434.34283605436\n",
            "R-squared score: 0.8494920321372166\n"
          ]
        }
      ]
    },
    {
      "cell_type": "markdown",
      "source": [
        "# Model (Drawings)\n"
      ],
      "metadata": {
        "id": "EaNYTWbPMAsY"
      }
    },
    {
      "cell_type": "code",
      "source": [
        "# Separate features and target variable\n",
        "X = merged.drop('client_credit_AMT_DRAWINGS_CURRENT_mean_mean', axis=1)\n",
        "y = merged['client_credit_AMT_DRAWINGS_CURRENT_mean_mean']\n",
        "\n",
        "# Split the data into training and testing sets\n",
        "X_train, X_test, y_train, y_test = train_test_split(X, y, test_size=0.2, random_state=42)"
      ],
      "metadata": {
        "id": "51vd-aSOMCN1"
      },
      "execution_count": null,
      "outputs": []
    },
    {
      "cell_type": "code",
      "source": [
        "# Standardize the features\n",
        "scaler = StandardScaler()\n",
        "X_train_scaled = scaler.fit_transform(X_train)\n",
        "X_test_scaled = scaler.transform(X_test)"
      ],
      "metadata": {
        "id": "lpcTJQ1ZMDj6"
      },
      "execution_count": null,
      "outputs": []
    },
    {
      "cell_type": "code",
      "source": [
        "# Neural Network model with regularization\n",
        "model = keras.Sequential([\n",
        "    layers.Dense(128, activation='relu', input_shape=(X_train_scaled.shape[1],)),\n",
        "    layers.Dropout(0.5),\n",
        "    layers.Dense(64, activation='relu', kernel_regularizer=regularizers.l2(0.01)),\n",
        "    layers.Dropout(0.5),\n",
        "    layers.Dense(32, activation='relu', kernel_regularizer=regularizers.l2(0.01)),\n",
        "    layers.Dense(1)\n",
        "])\n",
        "\n",
        "# Compile the model\n",
        "model.compile(optimizer='adam', loss='mean_squared_error')\n",
        "\n",
        "# Train the model\n",
        "history = model.fit(X_train_scaled, y_train, epochs=50, batch_size=32, validation_split=0.2, verbose=1)\n",
        "\n",
        "# Evaluate the model on the test set\n",
        "test_loss = model.evaluate(X_test_scaled, y_test)\n",
        "print(f\"Test Loss: {test_loss}\")\n",
        "\n",
        "# Make predictions\n",
        "predictions = model.predict(X_test_scaled)"
      ],
      "metadata": {
        "colab": {
          "base_uri": "https://localhost:8080/"
        },
        "id": "0Uxd7VYIME3V",
        "outputId": "5b4d031e-ac7f-4f67-e753-796232c939d7"
      },
      "execution_count": null,
      "outputs": [
        {
          "output_type": "stream",
          "name": "stdout",
          "text": [
            "Epoch 1/50\n",
            "7126/7126 [==============================] - 22s 3ms/step - loss: 176399920.0000 - val_loss: 119236272.0000\n",
            "Epoch 2/50\n",
            "7126/7126 [==============================] - 21s 3ms/step - loss: 119489672.0000 - val_loss: 117495344.0000\n",
            "Epoch 3/50\n",
            "7126/7126 [==============================] - 21s 3ms/step - loss: 113028696.0000 - val_loss: 113601376.0000\n",
            "Epoch 4/50\n",
            "7126/7126 [==============================] - 20s 3ms/step - loss: 113866728.0000 - val_loss: 110298600.0000\n",
            "Epoch 5/50\n",
            "7126/7126 [==============================] - 21s 3ms/step - loss: 110551304.0000 - val_loss: 107196784.0000\n",
            "Epoch 6/50\n",
            "7126/7126 [==============================] - 20s 3ms/step - loss: 106876352.0000 - val_loss: 103666104.0000\n",
            "Epoch 7/50\n",
            "7126/7126 [==============================] - 21s 3ms/step - loss: 107816488.0000 - val_loss: 99236696.0000\n",
            "Epoch 8/50\n",
            "7126/7126 [==============================] - 21s 3ms/step - loss: 103873928.0000 - val_loss: 98502144.0000\n",
            "Epoch 9/50\n",
            "7126/7126 [==============================] - 21s 3ms/step - loss: 100629336.0000 - val_loss: 98274864.0000\n",
            "Epoch 10/50\n",
            "7126/7126 [==============================] - 20s 3ms/step - loss: 104463600.0000 - val_loss: 94998200.0000\n",
            "Epoch 11/50\n",
            "7126/7126 [==============================] - 21s 3ms/step - loss: 103965008.0000 - val_loss: 91375272.0000\n",
            "Epoch 12/50\n",
            "7126/7126 [==============================] - 21s 3ms/step - loss: 99726312.0000 - val_loss: 93650504.0000\n",
            "Epoch 13/50\n",
            "7126/7126 [==============================] - 21s 3ms/step - loss: 97722048.0000 - val_loss: 90844216.0000\n",
            "Epoch 14/50\n",
            "7126/7126 [==============================] - 20s 3ms/step - loss: 101457304.0000 - val_loss: 92248528.0000\n",
            "Epoch 15/50\n",
            "7126/7126 [==============================] - 21s 3ms/step - loss: 100832464.0000 - val_loss: 90027776.0000\n",
            "Epoch 16/50\n",
            "7126/7126 [==============================] - 21s 3ms/step - loss: 100051080.0000 - val_loss: 88792888.0000\n",
            "Epoch 17/50\n",
            "7126/7126 [==============================] - 21s 3ms/step - loss: 98967928.0000 - val_loss: 88344608.0000\n",
            "Epoch 18/50\n",
            "7126/7126 [==============================] - 21s 3ms/step - loss: 95583928.0000 - val_loss: 89110328.0000\n",
            "Epoch 19/50\n",
            "7126/7126 [==============================] - 20s 3ms/step - loss: 91600048.0000 - val_loss: 90423048.0000\n",
            "Epoch 20/50\n",
            "7126/7126 [==============================] - 21s 3ms/step - loss: 98452136.0000 - val_loss: 86669872.0000\n",
            "Epoch 21/50\n",
            "7126/7126 [==============================] - 21s 3ms/step - loss: 96015344.0000 - val_loss: 84311600.0000\n",
            "Epoch 22/50\n",
            "7126/7126 [==============================] - 21s 3ms/step - loss: 92252992.0000 - val_loss: 84483800.0000\n",
            "Epoch 23/50\n",
            "7126/7126 [==============================] - 21s 3ms/step - loss: 97641000.0000 - val_loss: 86373800.0000\n",
            "Epoch 24/50\n",
            "7126/7126 [==============================] - 21s 3ms/step - loss: 94797568.0000 - val_loss: 86548168.0000\n",
            "Epoch 25/50\n",
            "7126/7126 [==============================] - 20s 3ms/step - loss: 95969608.0000 - val_loss: 80976424.0000\n",
            "Epoch 26/50\n",
            "7126/7126 [==============================] - 20s 3ms/step - loss: 98153520.0000 - val_loss: 82878864.0000\n",
            "Epoch 27/50\n",
            "7126/7126 [==============================] - 21s 3ms/step - loss: 94728912.0000 - val_loss: 80828264.0000\n",
            "Epoch 28/50\n",
            "7126/7126 [==============================] - 21s 3ms/step - loss: 94568464.0000 - val_loss: 87156000.0000\n",
            "Epoch 29/50\n",
            "7126/7126 [==============================] - 21s 3ms/step - loss: 91943488.0000 - val_loss: 85450712.0000\n",
            "Epoch 30/50\n",
            "7126/7126 [==============================] - 21s 3ms/step - loss: 93958000.0000 - val_loss: 85967832.0000\n",
            "Epoch 31/50\n",
            "7126/7126 [==============================] - 20s 3ms/step - loss: 91550104.0000 - val_loss: 98382080.0000\n",
            "Epoch 32/50\n",
            "7126/7126 [==============================] - 21s 3ms/step - loss: 97859392.0000 - val_loss: 79865376.0000\n",
            "Epoch 33/50\n",
            "7126/7126 [==============================] - 21s 3ms/step - loss: 96185408.0000 - val_loss: 89938456.0000\n",
            "Epoch 34/50\n",
            "7126/7126 [==============================] - 21s 3ms/step - loss: 94992488.0000 - val_loss: 79521928.0000\n",
            "Epoch 35/50\n",
            "7126/7126 [==============================] - 21s 3ms/step - loss: 94581120.0000 - val_loss: 79345072.0000\n",
            "Epoch 36/50\n",
            "7126/7126 [==============================] - 21s 3ms/step - loss: 95888672.0000 - val_loss: 81729408.0000\n",
            "Epoch 37/50\n",
            "7126/7126 [==============================] - 21s 3ms/step - loss: 89753576.0000 - val_loss: 87864880.0000\n",
            "Epoch 38/50\n",
            "7126/7126 [==============================] - 21s 3ms/step - loss: 93034648.0000 - val_loss: 78947392.0000\n",
            "Epoch 39/50\n",
            "7126/7126 [==============================] - 21s 3ms/step - loss: 93745736.0000 - val_loss: 85070128.0000\n",
            "Epoch 40/50\n",
            "7126/7126 [==============================] - 21s 3ms/step - loss: 89865232.0000 - val_loss: 81018584.0000\n",
            "Epoch 41/50\n",
            "7126/7126 [==============================] - 21s 3ms/step - loss: 98715960.0000 - val_loss: 80802776.0000\n",
            "Epoch 42/50\n",
            "7126/7126 [==============================] - 21s 3ms/step - loss: 94087392.0000 - val_loss: 78010264.0000\n",
            "Epoch 43/50\n",
            "7126/7126 [==============================] - 21s 3ms/step - loss: 99120376.0000 - val_loss: 77002536.0000\n",
            "Epoch 44/50\n",
            "7126/7126 [==============================] - 21s 3ms/step - loss: 92080384.0000 - val_loss: 80974376.0000\n",
            "Epoch 45/50\n",
            "7126/7126 [==============================] - 21s 3ms/step - loss: 91901240.0000 - val_loss: 82507288.0000\n",
            "Epoch 46/50\n",
            "7126/7126 [==============================] - 21s 3ms/step - loss: 93185192.0000 - val_loss: 83754184.0000\n",
            "Epoch 47/50\n",
            "7126/7126 [==============================] - 21s 3ms/step - loss: 94779040.0000 - val_loss: 78894152.0000\n",
            "Epoch 48/50\n",
            "7126/7126 [==============================] - 21s 3ms/step - loss: 91684312.0000 - val_loss: 78344048.0000\n",
            "Epoch 49/50\n",
            "7126/7126 [==============================] - 20s 3ms/step - loss: 95841168.0000 - val_loss: 134462240.0000\n",
            "Epoch 50/50\n",
            "7126/7126 [==============================] - 21s 3ms/step - loss: 95103856.0000 - val_loss: 134065272.0000\n",
            "2227/2227 [==============================] - 3s 1ms/step - loss: 122785984.0000\n",
            "Test Loss: 122785984.0\n",
            "2227/2227 [==============================] - 3s 1ms/step\n"
          ]
        }
      ]
    },
    {
      "cell_type": "code",
      "source": [
        "from sklearn.metrics import mean_absolute_error, mean_squared_error\n",
        "from sklearn.metrics import r2_score\n",
        "mae = mean_absolute_error(y_test, predictions)\n",
        "mse = mean_squared_error(y_test, predictions)\n",
        "rmse = np.sqrt(mse)\n",
        "r2 = r2_score(y_test, predictions)"
      ],
      "metadata": {
        "id": "8VaSMZ-JMGGO"
      },
      "execution_count": null,
      "outputs": []
    },
    {
      "cell_type": "code",
      "source": [
        "print(f\"Mean Absolute Error (MAE): {mae}\")\n",
        "print(f\"Mean Squared Error (MSE): {mse}\")\n",
        "print(f\"Root Mean Squared Error (RMSE): {rmse}\")\n",
        "print(f\"R-squared score: {r2}\")"
      ],
      "metadata": {
        "colab": {
          "base_uri": "https://localhost:8080/"
        },
        "id": "Mc9W03X_MHOJ",
        "outputId": "a3715ff4-ee43-4632-e7ed-72e7407c067b"
      },
      "execution_count": null,
      "outputs": [
        {
          "output_type": "stream",
          "name": "stdout",
          "text": [
            "Mean Absolute Error (MAE): 5157.177564879615\n",
            "Mean Squared Error (MSE): 122785207.13636665\n",
            "Root Mean Squared Error (RMSE): 11080.848664988014\n",
            "R-squared score: 0.7447668236208049\n"
          ]
        }
      ]
    }
  ]
}