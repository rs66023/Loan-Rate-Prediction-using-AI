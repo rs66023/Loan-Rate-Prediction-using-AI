{
  "nbformat": 4,
  "nbformat_minor": 0,
  "metadata": {
    "colab": {
      "provenance": [],
      "machine_shape": "hm",
      "gpuType": "T4"
    },
    "kernelspec": {
      "name": "python3",
      "display_name": "Python 3"
    },
    "language_info": {
      "name": "python"
    },
    "accelerator": "GPU"
  },
  "cells": [
    {
      "cell_type": "code",
      "execution_count": null,
      "metadata": {
        "colab": {
          "base_uri": "https://localhost:8080/"
        },
        "id": "iH3JNU2ZdN-H",
        "outputId": "71e4132c-26d5-4673-e27b-edf7e3c883fd"
      },
      "outputs": [
        {
          "output_type": "stream",
          "name": "stdout",
          "text": [
            "Drive already mounted at /content/drive; to attempt to forcibly remount, call drive.mount(\"/content/drive\", force_remount=True).\n"
          ]
        }
      ],
      "source": [
        "from google.colab import drive\n",
        "drive.mount('/content/drive')"
      ]
    },
    {
      "cell_type": "code",
      "source": [
        "# numpy and pandas for data manipulation\n",
        "import numpy as np\n",
        "import pandas as pd\n",
        "\n",
        "# sklearn preprocessing for dealing with categorical variables\n",
        "from sklearn.preprocessing import LabelEncoder\n",
        "\n",
        "# File system manangement\n",
        "import os\n",
        "\n",
        "# Suppress warnings\n",
        "import warnings\n",
        "warnings.filterwarnings('ignore')\n",
        "\n",
        "# matplotlib and seaborn for plotting\n",
        "import matplotlib\n",
        "import matplotlib.pyplot as plt\n",
        "import seaborn as sns"
      ],
      "metadata": {
        "id": "vytmDkG2dcdp"
      },
      "execution_count": null,
      "outputs": []
    },
    {
      "cell_type": "markdown",
      "source": [
        "# Calling Datasets"
      ],
      "metadata": {
        "id": "GKaU8Z4RdeRD"
      }
    },
    {
      "cell_type": "code",
      "source": [
        "#Datasets\n",
        "application_train = pd.read_csv('/content/drive/MyDrive/Thesis/Home Credit Section/Final [Small]/predictor_train_small.csv')\n",
        "application_train=application_train.fillna(0)\n",
        "application_train= application_train[application_train['drawdown_rate'] != 0]\n",
        "merged= application_train"
      ],
      "metadata": {
        "id": "gCNjfUb4dhVa"
      },
      "execution_count": null,
      "outputs": []
    },
    {
      "cell_type": "markdown",
      "source": [
        "# Linear Regression [Balance]"
      ],
      "metadata": {
        "id": "lUUYyVVdj7ZC"
      }
    },
    {
      "cell_type": "code",
      "source": [
        "from sklearn.model_selection import train_test_split\n",
        "from sklearn.linear_model import LinearRegression\n",
        "from sklearn.preprocessing import PolynomialFeatures\n",
        "from sklearn.metrics import mean_squared_error, r2_score\n",
        "import matplotlib.pyplot as plt"
      ],
      "metadata": {
        "id": "M1A9LVgrj9I3"
      },
      "execution_count": null,
      "outputs": []
    },
    {
      "cell_type": "code",
      "source": [
        "# Assuming 'drawdown_rate' is the target column and other columns are features\n",
        "X = merged.drop(columns=['client_credit_AMT_BALANCE_mean_mean'])\n",
        "y = merged['client_credit_AMT_BALANCE_mean_mean']"
      ],
      "metadata": {
        "id": "V8AER9Pxj-dX"
      },
      "execution_count": null,
      "outputs": []
    },
    {
      "cell_type": "code",
      "source": [
        "# Split the dataset into training and testing sets\n",
        "X_train, X_test, y_train, y_test = train_test_split(X, y, test_size=0.2, random_state=42)\n",
        "\n",
        "# Initialize and train the linear regression model\n",
        "model = LinearRegression()\n",
        "model.fit(X_train, y_train)\n",
        "\n",
        "# Make predictions on the test set\n",
        "y_pred = model.predict(X_test)\n",
        "\n",
        "# Evaluate the model\n",
        "mse = mean_squared_error(y_test, y_pred)\n",
        "r2 = r2_score(y_test, y_pred)\n",
        "\n",
        "print(f\"Mean Squared Error: {mse}\")\n",
        "print(f\"R-squared: {r2}\")"
      ],
      "metadata": {
        "colab": {
          "base_uri": "https://localhost:8080/"
        },
        "id": "-EtCVq4MkGin",
        "outputId": "66e09728-5cdb-4255-b55b-8fd4677a2a78"
      },
      "execution_count": null,
      "outputs": [
        {
          "output_type": "stream",
          "name": "stdout",
          "text": [
            "Mean Squared Error: 2157242192.6131773\n",
            "R-squared: 0.7627867170022672\n"
          ]
        }
      ]
    },
    {
      "cell_type": "markdown",
      "source": [
        "#Drawings [Linear Regression]"
      ],
      "metadata": {
        "id": "6GFV9ECekcXk"
      }
    },
    {
      "cell_type": "code",
      "source": [
        "from sklearn.model_selection import train_test_split\n",
        "from sklearn.linear_model import LinearRegression\n",
        "from sklearn.preprocessing import PolynomialFeatures\n",
        "from sklearn.metrics import mean_squared_error, r2_score\n",
        "import matplotlib.pyplot as plt"
      ],
      "metadata": {
        "id": "S7SEBMoOkfyV"
      },
      "execution_count": null,
      "outputs": []
    },
    {
      "cell_type": "code",
      "source": [
        "# Assuming 'drawdown_rate' is the target column and other columns are features\n",
        "X = merged.drop(columns=['client_credit_AMT_DRAWINGS_CURRENT_mean_mean'])\n",
        "y = merged['client_credit_AMT_DRAWINGS_CURRENT_mean_mean']"
      ],
      "metadata": {
        "id": "6J4LNglFkh3Z"
      },
      "execution_count": null,
      "outputs": []
    },
    {
      "cell_type": "code",
      "source": [
        "# Split the dataset into training and testing sets\n",
        "X_train, X_test, y_train, y_test = train_test_split(X, y, test_size=0.2, random_state=42)\n",
        "\n",
        "# Initialize and train the linear regression model\n",
        "model = LinearRegression()\n",
        "model.fit(X_train, y_train)\n",
        "\n",
        "# Make predictions on the test set\n",
        "y_pred = model.predict(X_test)\n",
        "\n",
        "# Evaluate the model\n",
        "mse = mean_squared_error(y_test, y_pred)\n",
        "r2 = r2_score(y_test, y_pred)\n",
        "\n",
        "print(f\"Mean Squared Error: {mse}\")\n",
        "print(f\"R-squared: {r2}\")"
      ],
      "metadata": {
        "colab": {
          "base_uri": "https://localhost:8080/"
        },
        "id": "E00EFd5rki5Q",
        "outputId": "d91479cf-cb43-4bdf-b83f-20f648e0fa14"
      },
      "execution_count": null,
      "outputs": [
        {
          "output_type": "stream",
          "name": "stdout",
          "text": [
            "Mean Squared Error: 119601583.709062\n",
            "R-squared: 0.77858034190685\n"
          ]
        }
      ]
    },
    {
      "cell_type": "markdown",
      "source": [
        "# Balance [Decision Tree]\n"
      ],
      "metadata": {
        "id": "M_JyzQiBz2bR"
      }
    },
    {
      "cell_type": "code",
      "source": [
        "from sklearn.model_selection import train_test_split\n",
        "from sklearn.tree import DecisionTreeRegressor\n",
        "from sklearn.metrics import median_absolute_error\n",
        "from sklearn.metrics import mean_squared_error, r2_score\n",
        "import matplotlib.pyplot as plt"
      ],
      "metadata": {
        "id": "TNBgQUJhuH1m"
      },
      "execution_count": null,
      "outputs": []
    },
    {
      "cell_type": "code",
      "source": [
        "X = merged.drop('client_credit_AMT_BALANCE_mean_mean', axis=1)\n",
        "y = merged['client_credit_AMT_BALANCE_mean_mean']\n",
        "print(X.shape)\n",
        "print(y.shape)"
      ],
      "metadata": {
        "colab": {
          "base_uri": "https://localhost:8080/"
        },
        "id": "2wTNnkzvuIz4",
        "outputId": "b259d876-1693-4a57-e6d6-02715cb9c6df"
      },
      "execution_count": null,
      "outputs": [
        {
          "output_type": "stream",
          "name": "stdout",
          "text": [
            "(257785, 339)\n",
            "(257785,)\n"
          ]
        }
      ]
    },
    {
      "cell_type": "code",
      "source": [
        "# Split the data into training and testing sets\n",
        "X_train, X_test, y_train, y_test = train_test_split(X, y, test_size=0.2, random_state=42)\n",
        "\n",
        "# Create a complex-looking Decision Tree Regressor\n",
        "max_depth = 10  # Adjust the maximum depth according to your needs\n",
        "min_samples_split_value = 5  # Adjust the minimum samples required to split a node\n",
        "min_samples_leaf_value = 2   # Adjust the minimum samples required to be at a leaf node\n",
        "max_features_value = None   # You can adjust the number of features to consider at each split\n"
      ],
      "metadata": {
        "id": "8_Np4kAeDjEl"
      },
      "execution_count": null,
      "outputs": []
    },
    {
      "cell_type": "code",
      "source": [
        "model = DecisionTreeRegressor(\n",
        "    max_depth=max_depth,\n",
        "    min_samples_split=min_samples_split_value,\n",
        "    min_samples_leaf=min_samples_leaf_value,\n",
        "    max_features=max_features_value\n",
        ")\n",
        "\n",
        "# Fit the model to the training data\n",
        "model.fit(X_train, y_train)\n",
        "\n",
        "# Make predictions on the test data\n",
        "y_pred = model.predict(X_test)"
      ],
      "metadata": {
        "id": "uf5CrVIjDjOr"
      },
      "execution_count": null,
      "outputs": []
    },
    {
      "cell_type": "code",
      "source": [
        "# Evaluate the model\n",
        "mse = mean_squared_error(y_test, y_pred)\n",
        "r2 = r2_score(y_test, y_pred)\n",
        "\n",
        "print(\"Mean Squared Error:\", mse)\n",
        "print(\"R-squared:\", r2)\n",
        "\n",
        "# Calculate median absolute error\n",
        "medae = median_absolute_error(y_test, y_pred)\n",
        "print(\"Median Absolute Error:\", medae)\n",
        "\n",
        "# Calculate root mean squared error\n",
        "rmse = np.sqrt(mean_squared_error(y_test, y_pred))\n",
        "print(\"Root Mean Squared Error:\", rmse)\n",
        "\n",
        "#Score\n",
        "r2_score = model.score(X_test, y_test)\n",
        "print(\"Model Score:\", r2_score)"
      ],
      "metadata": {
        "colab": {
          "base_uri": "https://localhost:8080/"
        },
        "id": "z-vDBxMkFleY",
        "outputId": "350d4e75-4bff-4c3a-e1e5-bbce1e7203ba"
      },
      "execution_count": null,
      "outputs": [
        {
          "output_type": "stream",
          "name": "stdout",
          "text": [
            "Mean Squared Error: 102460185.00011669\n",
            "R-squared: 0.9887333388232171\n",
            "Median Absolute Error: 1759.7726453284267\n",
            "Root Mean Squared Error: 10122.261851983316\n",
            "Model Score: 0.9887333388232171\n"
          ]
        }
      ]
    },
    {
      "cell_type": "markdown",
      "source": [
        "# Drawings [Decision Tree]"
      ],
      "metadata": {
        "id": "QnFtg1UR4dV8"
      }
    },
    {
      "cell_type": "code",
      "source": [
        "X = merged.drop('client_credit_AMT_DRAWINGS_CURRENT_mean_mean', axis=1)\n",
        "y = merged['client_credit_AMT_DRAWINGS_CURRENT_mean_mean']\n",
        "print(X.shape)\n",
        "print(y.shape)"
      ],
      "metadata": {
        "id": "w1JHhfSt4w_W",
        "colab": {
          "base_uri": "https://localhost:8080/"
        },
        "outputId": "afb02737-a7d2-4696-916f-cb5aa58323eb"
      },
      "execution_count": null,
      "outputs": [
        {
          "output_type": "stream",
          "name": "stdout",
          "text": [
            "(257785, 339)\n",
            "(257785,)\n"
          ]
        }
      ]
    },
    {
      "cell_type": "code",
      "source": [
        "# Split the data into training and testing sets\n",
        "X_train, X_test, y_train, y_test = train_test_split(X, y, test_size=0.2, random_state=42)\n",
        "\n",
        "# Create a complex-looking Decision Tree Regressor\n",
        "max_depth = 10  # Adjust the maximum depth according to your needs\n",
        "min_samples_split_value = 5  # Adjust the minimum samples required to split a node\n",
        "min_samples_leaf_value = 2   # Adjust the minimum samples required to be at a leaf node\n",
        "max_features_value = None   # You can adjust the number of features to consider at each split"
      ],
      "metadata": {
        "id": "LLiSjXwflikh"
      },
      "execution_count": null,
      "outputs": []
    },
    {
      "cell_type": "code",
      "source": [
        "model = DecisionTreeRegressor(\n",
        "    max_depth=max_depth,\n",
        "    min_samples_split=min_samples_split_value,\n",
        "    min_samples_leaf=min_samples_leaf_value,\n",
        "    max_features=max_features_value\n",
        ")\n",
        "\n",
        "# Fit the model to the training data\n",
        "model.fit(X_train, y_train)\n",
        "\n",
        "# Make predictions on the test data\n",
        "y_pred = model.predict(X_test)"
      ],
      "metadata": {
        "id": "q5Q9VEyxllLg"
      },
      "execution_count": null,
      "outputs": []
    },
    {
      "cell_type": "code",
      "source": [
        "# Evaluate the model\n",
        "mse = mean_squared_error(y_test, y_pred)\n",
        "\n",
        "print(\"Mean Squared Error:\", mse)\n",
        "\n",
        "# Calculate median absolute error\n",
        "medae = median_absolute_error(y_test, y_pred)\n",
        "print(\"Median Absolute Error:\", medae)\n",
        "\n",
        "# Calculate root mean squared error\n",
        "rmse = np.sqrt(mean_squared_error(y_test, y_pred))\n",
        "print(\"Root Mean Squared Error:\", rmse)\n",
        "\n",
        "#Score\n",
        "r2_score = model.score(X_test, y_test)\n",
        "print(\"Model Score:\", r2_score)"
      ],
      "metadata": {
        "colab": {
          "base_uri": "https://localhost:8080/"
        },
        "id": "Kha5FPj-lnPI",
        "outputId": "9583f6e1-62df-4eeb-e590-a74f5d0659d0"
      },
      "execution_count": null,
      "outputs": [
        {
          "output_type": "stream",
          "name": "stdout",
          "text": [
            "Mean Squared Error: 11189018.87689457\n",
            "Median Absolute Error: 320.60784922424455\n",
            "Root Mean Squared Error: 3344.999084737479\n",
            "Model Score: 0.9792856527707327\n"
          ]
        }
      ]
    },
    {
      "cell_type": "markdown",
      "source": [
        "# Balances [Random Forest]\n"
      ],
      "metadata": {
        "id": "VjkEXl0J2LOW"
      }
    },
    {
      "cell_type": "code",
      "source": [
        "from sklearn.ensemble import RandomForestRegressor\n",
        "from sklearn.metrics import mean_squared_error\n",
        "%matplotlib inline"
      ],
      "metadata": {
        "id": "FOI-y0nl8q1D"
      },
      "execution_count": null,
      "outputs": []
    },
    {
      "cell_type": "code",
      "source": [
        "X = merged.drop('client_credit_AMT_BALANCE_mean_mean', axis=1)\n",
        "y = merged['client_credit_AMT_BALANCE_mean_mean']"
      ],
      "metadata": {
        "id": "fwUQJWDnBzbw"
      },
      "execution_count": null,
      "outputs": []
    },
    {
      "cell_type": "code",
      "source": [
        "# Split the data into training and testing sets\n",
        "X_train, X_test, y_train, y_test = train_test_split(X, y, test_size=0.2, random_state=42)\n",
        "\n",
        "# Create a Random Forest Regressor with complex hyperparameters\n",
        "rf_regressor = RandomForestRegressor(\n",
        "    n_estimators=100,\n",
        "    max_depth=10,\n",
        "    min_samples_split=5,\n",
        "    min_samples_leaf=2,\n",
        "    max_features='sqrt',\n",
        "    random_state=42\n",
        ")\n",
        "\n",
        "# Fit the model on the training data\n",
        "rf_regressor.fit(X_train, y_train)\n",
        "\n",
        "# Make predictions on the test set\n",
        "y_pred = rf_regressor.predict(X_test)"
      ],
      "metadata": {
        "id": "1l3SZE3qB28C"
      },
      "execution_count": null,
      "outputs": []
    },
    {
      "cell_type": "code",
      "source": [
        "from sklearn.metrics import mean_absolute_error, r2_score\n",
        "\n",
        "# Calculate the root mean squared error\n",
        "rmse = np.sqrt(mean_squared_error(y_test, y_pred))\n",
        "print(\"Root Mean Squared Error:\", rmse)\n",
        "\n",
        "# Calculate Mean Absolute Error (MAE)\n",
        "mae = mean_absolute_error(y_test, y_pred)\n",
        "print(\"Mean Absolute Error:\", mae)\n",
        "\n",
        "# Calculate R-squared (Coefficient of Determination)\n",
        "r2 = r2_score(y_test, y_pred)\n",
        "print(\"R-squared:\", r2)\n",
        "\n",
        "r2_score = rf_regressor.score(X_test, y_test)\n",
        "print(\"Model Score:\", r2_score)"
      ],
      "metadata": {
        "colab": {
          "base_uri": "https://localhost:8080/"
        },
        "id": "Ihv38sM3Cnex",
        "outputId": "d1f7614a-5653-44ce-f158-784a5178f7bb"
      },
      "execution_count": null,
      "outputs": [
        {
          "output_type": "stream",
          "name": "stdout",
          "text": [
            "Root Mean Squared Error: 53358.98706368949\n",
            "Mean Absolute Error: 33904.883458392396\n",
            "R-squared: 0.6869200531456778\n",
            "Model Score: 0.6869200531456778\n"
          ]
        }
      ]
    },
    {
      "cell_type": "markdown",
      "source": [
        "# Drawings [Random Forest]\n"
      ],
      "metadata": {
        "id": "xDWyZ9xilr-p"
      }
    },
    {
      "cell_type": "code",
      "source": [
        "X = merged.drop('client_credit_AMT_DRAWINGS_CURRENT_mean_mean', axis=1)\n",
        "y = merged['client_credit_AMT_DRAWINGS_CURRENT_mean_mean']"
      ],
      "metadata": {
        "id": "dwopuratlsyo"
      },
      "execution_count": null,
      "outputs": []
    },
    {
      "cell_type": "code",
      "source": [
        "# Split the data into training and testing sets\n",
        "X_train, X_test, y_train, y_test = train_test_split(X, y, test_size=0.2, random_state=42)\n",
        "\n",
        "# Create a Random Forest Regressor with complex hyperparameters\n",
        "rf_regressor = RandomForestRegressor(\n",
        "    n_estimators=100,\n",
        "    max_depth=10,\n",
        "    min_samples_split=5,\n",
        "    min_samples_leaf=2,\n",
        "    max_features='sqrt',\n",
        "    random_state=42\n",
        ")\n",
        "\n",
        "# Fit the model on the training data\n",
        "rf_regressor.fit(X_train, y_train)\n",
        "\n",
        "# Make predictions on the test set\n",
        "y_pred = rf_regressor.predict(X_test)"
      ],
      "metadata": {
        "id": "xidDpIdllvOt"
      },
      "execution_count": null,
      "outputs": []
    },
    {
      "cell_type": "code",
      "source": [
        "from sklearn.metrics import mean_absolute_error, r2_score\n",
        "\n",
        "# Calculate the root mean squared error\n",
        "rmse = np.sqrt(mean_squared_error(y_test, y_pred))\n",
        "print(\"Root Mean Squared Error:\", rmse)\n",
        "\n",
        "# Calculate Mean Absolute Error (MAE)\n",
        "mae = mean_absolute_error(y_test, y_pred)\n",
        "print(\"Mean Absolute Error:\", mae)\n",
        "\n",
        "# Calculate R-squared (Coefficient of Determination)\n",
        "r2 = r2_score(y_test, y_pred)\n",
        "print(\"R-squared:\", r2)\n",
        "\n",
        "r2_score = rf_regressor.score(X_test, y_test)\n",
        "print(\"Model Score:\", r2_score)"
      ],
      "metadata": {
        "colab": {
          "base_uri": "https://localhost:8080/"
        },
        "id": "tHDTP5Y7lwQZ",
        "outputId": "a33fd053-1d4b-4bdf-b9d3-07adc89be7c2"
      },
      "execution_count": null,
      "outputs": [
        {
          "output_type": "stream",
          "name": "stdout",
          "text": [
            "Root Mean Squared Error: 15207.89290534742\n",
            "Mean Absolute Error: 7741.16309254737\n",
            "R-squared: 0.5718289139526158\n",
            "Model Score: 0.5718289139526158\n"
          ]
        }
      ]
    },
    {
      "cell_type": "code",
      "source": [],
      "metadata": {
        "id": "0t0YzdtapAmh"
      },
      "execution_count": null,
      "outputs": []
    }
  ]
}