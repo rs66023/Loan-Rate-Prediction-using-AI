{
  "nbformat": 4,
  "nbformat_minor": 0,
  "metadata": {
    "colab": {
      "provenance": [],
      "machine_shape": "hm",
      "gpuType": "T4"
    },
    "kernelspec": {
      "name": "python3",
      "display_name": "Python 3"
    },
    "language_info": {
      "name": "python"
    },
    "accelerator": "GPU"
  },
  "cells": [
    {
      "cell_type": "code",
      "execution_count": null,
      "metadata": {
        "colab": {
          "base_uri": "https://localhost:8080/"
        },
        "id": "iH3JNU2ZdN-H",
        "outputId": "cafcf81b-7e91-48ed-9f75-19afff032160"
      },
      "outputs": [
        {
          "output_type": "stream",
          "name": "stdout",
          "text": [
            "Mounted at /content/drive\n"
          ]
        }
      ],
      "source": [
        "from google.colab import drive\n",
        "drive.mount('/content/drive')"
      ]
    },
    {
      "cell_type": "code",
      "source": [
        "# numpy and pandas for data manipulation\n",
        "import numpy as np\n",
        "import pandas as pd\n",
        "\n",
        "# sklearn preprocessing for dealing with categorical variables\n",
        "from sklearn.preprocessing import LabelEncoder\n",
        "\n",
        "# File system manangement\n",
        "import os\n",
        "\n",
        "# Suppress warnings\n",
        "import warnings\n",
        "warnings.filterwarnings('ignore')\n",
        "\n",
        "# matplotlib and seaborn for plotting\n",
        "import matplotlib\n",
        "import matplotlib.pyplot as plt\n",
        "import seaborn as sns\n",
        "\n",
        "# modeling\n",
        "import lightgbm as lgb\n",
        "\n",
        "# utilities\n",
        "from sklearn.model_selection import train_test_split\n",
        "from sklearn.model_selection import KFold\n",
        "from sklearn.metrics import roc_auc_score\n",
        "from sklearn.metrics import mean_squared_error\n",
        "from sklearn.preprocessing import LabelEncoder\n",
        "\n",
        "# memory management\n",
        "import gc"
      ],
      "metadata": {
        "id": "vytmDkG2dcdp"
      },
      "execution_count": null,
      "outputs": []
    },
    {
      "cell_type": "markdown",
      "source": [
        "# Calling Datasets"
      ],
      "metadata": {
        "id": "GKaU8Z4RdeRD"
      }
    },
    {
      "cell_type": "code",
      "source": [
        "#Datasets\n",
        "application_train = pd.read_csv('/content/drive/MyDrive/Thesis/Home Credit Section/Final [Small]/predictor_train_small.csv')\n",
        "application_train=application_train.fillna(0)\n",
        "data=application_train[application_train['client_credit_AMT_BALANCE_mean_mean'] != 0]"
      ],
      "metadata": {
        "id": "gCNjfUb4dhVa"
      },
      "execution_count": null,
      "outputs": []
    },
    {
      "cell_type": "markdown",
      "source": [
        "# LightGBM (Balance)"
      ],
      "metadata": {
        "id": "jJOQ7U73hf3A"
      }
    },
    {
      "cell_type": "code",
      "source": [
        "# Splitting the data into training and testing sets\n",
        "train_data, test_data = train_test_split(application_train, test_size=0.2, random_state=42)"
      ],
      "metadata": {
        "id": "eSoUAkR24ts0"
      },
      "execution_count": null,
      "outputs": []
    },
    {
      "cell_type": "code",
      "source": [
        "\n",
        "# Prepare data for LightGBM\n",
        "X_train = train_data.drop(columns=['client_credit_AMT_BALANCE_mean_mean'])\n",
        "y_train = train_data['client_credit_AMT_BALANCE_mean_mean']\n",
        "X_test = test_data.drop(columns=['client_credit_AMT_BALANCE_mean_mean'])\n",
        "y_test = test_data['client_credit_AMT_BALANCE_mean_mean']\n",
        "\n",
        "# Create LightGBM dataset\n",
        "train_dataset = lgb.Dataset(X_train, label=y_train)\n",
        "test_dataset = lgb.Dataset(X_test, label=y_test, reference=train_dataset)\n",
        "\n",
        "# Define hyperparameters\n",
        "params = {\n",
        "    'objective': 'regression',\n",
        "    'metric': 'rmse',\n",
        "    'boosting_type': 'gbdt',\n",
        "    'num_leaves': 100,\n",
        "    'learning_rate': 0.05,\n",
        "    'feature_fraction': 0.9,\n",
        "    'bagging_fraction': 0.8,\n",
        "    'bagging_freq': 5,\n",
        "    'verbose': 0\n",
        "}\n",
        "\n",
        "# Train the model\n",
        "num_round = 1000\n",
        "bst = lgb.train(params, train_dataset, num_round, valid_sets=[test_dataset])\n",
        "\n",
        "# Make predictions\n",
        "y_pred = bst.predict(X_test, num_iteration=bst.best_iteration)"
      ],
      "metadata": {
        "colab": {
          "base_uri": "https://localhost:8080/"
        },
        "id": "GJXJZ7y_4wD7",
        "outputId": "788360c7-034c-46cd-b0d6-c75824b76e58"
      },
      "execution_count": null,
      "outputs": [
        {
          "output_type": "stream",
          "name": "stdout",
          "text": [
            "[LightGBM] [Warning] Auto-choosing col-wise multi-threading, the overhead of testing was 0.295318 seconds.\n",
            "You can set `force_col_wise=true` to remove the overhead.\n"
          ]
        }
      ]
    },
    {
      "cell_type": "code",
      "source": [
        "from sklearn.metrics import mean_squared_error, mean_absolute_error, r2_score\n",
        "\n",
        "# Calculate metrics\n",
        "mse = mean_squared_error(y_test, y_pred)\n",
        "mae = mean_absolute_error(y_test, y_pred)\n",
        "r2 = r2_score(y_test, y_pred)\n",
        "\n",
        "# Print metrics\n",
        "print(f\"Mean Squared Error: {mse}\")\n",
        "print(f\"Mean Absolute Error: {mae}\")\n",
        "print(f\"R-squared: {r2}\")\n",
        "\n",
        "#RSME\n",
        "rmse = np.sqrt(mean_squared_error(y_test, y_pred))\n",
        "print(f\"Root Mean Squared Error: {rmse}\")"
      ],
      "metadata": {
        "colab": {
          "base_uri": "https://localhost:8080/"
        },
        "id": "xi5B0Yte6kTe",
        "outputId": "42854fff-3a20-41d6-986c-de8d5f29e657"
      },
      "execution_count": null,
      "outputs": [
        {
          "output_type": "stream",
          "name": "stdout",
          "text": [
            "Mean Squared Error: 28104398.9922544\n",
            "Mean Absolute Error: 1376.753894552708\n",
            "R-squared: 0.99678799045735\n",
            "Root Mean Squared Error: 5301.358221461213\n"
          ]
        }
      ]
    },
    {
      "cell_type": "markdown",
      "source": [
        "# LightGBM (Drawings)"
      ],
      "metadata": {
        "id": "j6ZLqFGqIGrC"
      }
    },
    {
      "cell_type": "code",
      "source": [
        "# Splitting the data into training and testing sets\n",
        "train_data, test_data = train_test_split(application_train, test_size=0.2, random_state=42)"
      ],
      "metadata": {
        "id": "qiVL8jrBm6GZ"
      },
      "execution_count": null,
      "outputs": []
    },
    {
      "cell_type": "code",
      "source": [
        "\n",
        "# Prepare data for LightGBM\n",
        "X_train = train_data.drop(columns=['client_credit_AMT_DRAWINGS_CURRENT_mean_mean'])\n",
        "y_train = train_data['client_credit_AMT_DRAWINGS_CURRENT_mean_mean']\n",
        "X_test = test_data.drop(columns=['client_credit_AMT_DRAWINGS_CURRENT_mean_mean'])\n",
        "y_test = test_data['client_credit_AMT_DRAWINGS_CURRENT_mean_mean']\n",
        "\n",
        "# Create LightGBM dataset\n",
        "train_dataset = lgb.Dataset(X_train, label=y_train)\n",
        "test_dataset = lgb.Dataset(X_test, label=y_test, reference=train_dataset)\n",
        "\n",
        "# Define hyperparameters\n",
        "params = {\n",
        "    'objective': 'regression',\n",
        "    'metric': 'rmse',\n",
        "    'boosting_type': 'gbdt',\n",
        "    'num_leaves': 100,\n",
        "    'learning_rate': 0.05,\n",
        "    'feature_fraction': 0.9,\n",
        "    'bagging_fraction': 0.8,\n",
        "    'bagging_freq': 5,\n",
        "    'verbose': 0\n",
        "}\n",
        "\n",
        "# Train the model\n",
        "num_round = 1000\n",
        "bst = lgb.train(params, train_dataset, num_round, valid_sets=[test_dataset])\n",
        "\n",
        "# Make predictions\n",
        "y_pred = bst.predict(X_test, num_iteration=bst.best_iteration)"
      ],
      "metadata": {
        "colab": {
          "base_uri": "https://localhost:8080/"
        },
        "id": "b_JuYPr5IJio",
        "outputId": "8371a10a-a40d-40e3-a063-98834c80d54b"
      },
      "execution_count": null,
      "outputs": [
        {
          "output_type": "stream",
          "name": "stdout",
          "text": [
            "[LightGBM] [Warning] Auto-choosing col-wise multi-threading, the overhead of testing was 0.320925 seconds.\n",
            "You can set `force_col_wise=true` to remove the overhead.\n"
          ]
        }
      ]
    },
    {
      "cell_type": "code",
      "source": [
        "from sklearn.metrics import mean_squared_error, mean_absolute_error, r2_score\n",
        "\n",
        "# Calculate metrics\n",
        "mse = mean_squared_error(y_test, y_pred)\n",
        "mae = mean_absolute_error(y_test, y_pred)\n",
        "r2 = r2_score(y_test, y_pred)\n",
        "\n",
        "# Print metrics\n",
        "print(f\"Mean Squared Error: {mse}\")\n",
        "print(f\"Mean Absolute Error: {mae}\")\n",
        "print(f\"R-squared: {r2}\")\n",
        "\n",
        "#RSME\n",
        "rmse = np.sqrt(mean_squared_error(y_test, y_pred))\n",
        "print(f\"Root Mean Squared Error: {rmse}\")"
      ],
      "metadata": {
        "colab": {
          "base_uri": "https://localhost:8080/"
        },
        "id": "hYdCNWTHIL9R",
        "outputId": "176cf165-ac36-49bb-f53a-dbeccf0164ae"
      },
      "execution_count": null,
      "outputs": [
        {
          "output_type": "stream",
          "name": "stdout",
          "text": [
            "Mean Squared Error: 11624967.172777321\n",
            "Mean Absolute Error: 397.6258198730373\n",
            "R-squared: 0.976326500429685\n",
            "Root Mean Squared Error: 3409.5406102255656\n"
          ]
        }
      ]
    }
  ]
}